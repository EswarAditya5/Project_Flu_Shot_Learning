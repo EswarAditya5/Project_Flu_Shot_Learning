{
 "cells": [
  {
   "cell_type": "code",
   "execution_count": 1,
   "id": "d181a22a",
   "metadata": {},
   "outputs": [],
   "source": [
    "import io\n",
    "import os\n",
    "import seaborn as sns\n",
    "import matplotlib.pyplot as plt\n",
    "import pandas as pd\n",
    "import numpy as np"
   ]
  },
  {
   "cell_type": "code",
   "execution_count": 2,
   "id": "0c6e55f2",
   "metadata": {},
   "outputs": [
    {
     "name": "stdout",
     "output_type": "stream",
     "text": [
      "D:\\Imarticus\\stat\\flu from data driven\n"
     ]
    }
   ],
   "source": [
    "%cd \"D:\\Imarticus\\stat\\flu from data driven\""
   ]
  },
  {
   "cell_type": "code",
   "execution_count": 3,
   "id": "f651d281",
   "metadata": {},
   "outputs": [],
   "source": [
    "vaccinetrain=pd.read_csv('training_set_features.csv')"
   ]
  },
  {
   "cell_type": "code",
   "execution_count": 4,
   "id": "2815d9b1",
   "metadata": {},
   "outputs": [
    {
     "data": {
      "text/html": [
       "<div>\n",
       "<style scoped>\n",
       "    .dataframe tbody tr th:only-of-type {\n",
       "        vertical-align: middle;\n",
       "    }\n",
       "\n",
       "    .dataframe tbody tr th {\n",
       "        vertical-align: top;\n",
       "    }\n",
       "\n",
       "    .dataframe thead th {\n",
       "        text-align: right;\n",
       "    }\n",
       "</style>\n",
       "<table border=\"1\" class=\"dataframe\">\n",
       "  <thead>\n",
       "    <tr style=\"text-align: right;\">\n",
       "      <th></th>\n",
       "      <th>respondent_id</th>\n",
       "      <th>h1n1_concern</th>\n",
       "      <th>h1n1_knowledge</th>\n",
       "      <th>behavioral_antiviral_meds</th>\n",
       "      <th>behavioral_avoidance</th>\n",
       "      <th>behavioral_face_mask</th>\n",
       "      <th>behavioral_wash_hands</th>\n",
       "      <th>behavioral_large_gatherings</th>\n",
       "      <th>behavioral_outside_home</th>\n",
       "      <th>behavioral_touch_face</th>\n",
       "      <th>...</th>\n",
       "      <th>income_poverty</th>\n",
       "      <th>marital_status</th>\n",
       "      <th>rent_or_own</th>\n",
       "      <th>employment_status</th>\n",
       "      <th>hhs_geo_region</th>\n",
       "      <th>census_msa</th>\n",
       "      <th>household_adults</th>\n",
       "      <th>household_children</th>\n",
       "      <th>employment_industry</th>\n",
       "      <th>employment_occupation</th>\n",
       "    </tr>\n",
       "  </thead>\n",
       "  <tbody>\n",
       "    <tr>\n",
       "      <th>0</th>\n",
       "      <td>26707</td>\n",
       "      <td>2.0</td>\n",
       "      <td>2.0</td>\n",
       "      <td>0.0</td>\n",
       "      <td>1.0</td>\n",
       "      <td>0.0</td>\n",
       "      <td>1.0</td>\n",
       "      <td>1.0</td>\n",
       "      <td>0.0</td>\n",
       "      <td>1.0</td>\n",
       "      <td>...</td>\n",
       "      <td>&gt; $75,000</td>\n",
       "      <td>Not Married</td>\n",
       "      <td>Rent</td>\n",
       "      <td>Employed</td>\n",
       "      <td>mlyzmhmf</td>\n",
       "      <td>MSA, Not Principle  City</td>\n",
       "      <td>1.0</td>\n",
       "      <td>0.0</td>\n",
       "      <td>atmlpfrs</td>\n",
       "      <td>hfxkjkmi</td>\n",
       "    </tr>\n",
       "    <tr>\n",
       "      <th>1</th>\n",
       "      <td>26708</td>\n",
       "      <td>1.0</td>\n",
       "      <td>1.0</td>\n",
       "      <td>0.0</td>\n",
       "      <td>0.0</td>\n",
       "      <td>0.0</td>\n",
       "      <td>0.0</td>\n",
       "      <td>0.0</td>\n",
       "      <td>0.0</td>\n",
       "      <td>0.0</td>\n",
       "      <td>...</td>\n",
       "      <td>Below Poverty</td>\n",
       "      <td>Not Married</td>\n",
       "      <td>Rent</td>\n",
       "      <td>Employed</td>\n",
       "      <td>bhuqouqj</td>\n",
       "      <td>Non-MSA</td>\n",
       "      <td>3.0</td>\n",
       "      <td>0.0</td>\n",
       "      <td>atmlpfrs</td>\n",
       "      <td>xqwwgdyp</td>\n",
       "    </tr>\n",
       "    <tr>\n",
       "      <th>2</th>\n",
       "      <td>26709</td>\n",
       "      <td>2.0</td>\n",
       "      <td>2.0</td>\n",
       "      <td>0.0</td>\n",
       "      <td>0.0</td>\n",
       "      <td>1.0</td>\n",
       "      <td>1.0</td>\n",
       "      <td>1.0</td>\n",
       "      <td>1.0</td>\n",
       "      <td>1.0</td>\n",
       "      <td>...</td>\n",
       "      <td>&gt; $75,000</td>\n",
       "      <td>Married</td>\n",
       "      <td>Own</td>\n",
       "      <td>Employed</td>\n",
       "      <td>lrircsnp</td>\n",
       "      <td>Non-MSA</td>\n",
       "      <td>1.0</td>\n",
       "      <td>0.0</td>\n",
       "      <td>nduyfdeo</td>\n",
       "      <td>pvmttkik</td>\n",
       "    </tr>\n",
       "    <tr>\n",
       "      <th>3</th>\n",
       "      <td>26710</td>\n",
       "      <td>1.0</td>\n",
       "      <td>1.0</td>\n",
       "      <td>0.0</td>\n",
       "      <td>0.0</td>\n",
       "      <td>0.0</td>\n",
       "      <td>0.0</td>\n",
       "      <td>0.0</td>\n",
       "      <td>0.0</td>\n",
       "      <td>0.0</td>\n",
       "      <td>...</td>\n",
       "      <td>&lt;= $75,000, Above Poverty</td>\n",
       "      <td>Married</td>\n",
       "      <td>Own</td>\n",
       "      <td>Not in Labor Force</td>\n",
       "      <td>lrircsnp</td>\n",
       "      <td>MSA, Not Principle  City</td>\n",
       "      <td>1.0</td>\n",
       "      <td>0.0</td>\n",
       "      <td>NaN</td>\n",
       "      <td>NaN</td>\n",
       "    </tr>\n",
       "    <tr>\n",
       "      <th>4</th>\n",
       "      <td>26711</td>\n",
       "      <td>3.0</td>\n",
       "      <td>1.0</td>\n",
       "      <td>1.0</td>\n",
       "      <td>1.0</td>\n",
       "      <td>0.0</td>\n",
       "      <td>1.0</td>\n",
       "      <td>1.0</td>\n",
       "      <td>1.0</td>\n",
       "      <td>1.0</td>\n",
       "      <td>...</td>\n",
       "      <td>&lt;= $75,000, Above Poverty</td>\n",
       "      <td>Not Married</td>\n",
       "      <td>Own</td>\n",
       "      <td>Employed</td>\n",
       "      <td>lzgpxyit</td>\n",
       "      <td>Non-MSA</td>\n",
       "      <td>0.0</td>\n",
       "      <td>1.0</td>\n",
       "      <td>fcxhlnwr</td>\n",
       "      <td>mxkfnird</td>\n",
       "    </tr>\n",
       "  </tbody>\n",
       "</table>\n",
       "<p>5 rows × 36 columns</p>\n",
       "</div>"
      ],
      "text/plain": [
       "   respondent_id  h1n1_concern  h1n1_knowledge  behavioral_antiviral_meds  \\\n",
       "0          26707           2.0             2.0                        0.0   \n",
       "1          26708           1.0             1.0                        0.0   \n",
       "2          26709           2.0             2.0                        0.0   \n",
       "3          26710           1.0             1.0                        0.0   \n",
       "4          26711           3.0             1.0                        1.0   \n",
       "\n",
       "   behavioral_avoidance  behavioral_face_mask  behavioral_wash_hands  \\\n",
       "0                   1.0                   0.0                    1.0   \n",
       "1                   0.0                   0.0                    0.0   \n",
       "2                   0.0                   1.0                    1.0   \n",
       "3                   0.0                   0.0                    0.0   \n",
       "4                   1.0                   0.0                    1.0   \n",
       "\n",
       "   behavioral_large_gatherings  behavioral_outside_home  \\\n",
       "0                          1.0                      0.0   \n",
       "1                          0.0                      0.0   \n",
       "2                          1.0                      1.0   \n",
       "3                          0.0                      0.0   \n",
       "4                          1.0                      1.0   \n",
       "\n",
       "   behavioral_touch_face  ...             income_poverty  marital_status  \\\n",
       "0                    1.0  ...                  > $75,000     Not Married   \n",
       "1                    0.0  ...              Below Poverty     Not Married   \n",
       "2                    1.0  ...                  > $75,000         Married   \n",
       "3                    0.0  ...  <= $75,000, Above Poverty         Married   \n",
       "4                    1.0  ...  <= $75,000, Above Poverty     Not Married   \n",
       "\n",
       "   rent_or_own   employment_status  hhs_geo_region                census_msa  \\\n",
       "0         Rent            Employed        mlyzmhmf  MSA, Not Principle  City   \n",
       "1         Rent            Employed        bhuqouqj                   Non-MSA   \n",
       "2          Own            Employed        lrircsnp                   Non-MSA   \n",
       "3          Own  Not in Labor Force        lrircsnp  MSA, Not Principle  City   \n",
       "4          Own            Employed        lzgpxyit                   Non-MSA   \n",
       "\n",
       "   household_adults  household_children  employment_industry  \\\n",
       "0               1.0                 0.0             atmlpfrs   \n",
       "1               3.0                 0.0             atmlpfrs   \n",
       "2               1.0                 0.0             nduyfdeo   \n",
       "3               1.0                 0.0                  NaN   \n",
       "4               0.0                 1.0             fcxhlnwr   \n",
       "\n",
       "   employment_occupation  \n",
       "0               hfxkjkmi  \n",
       "1               xqwwgdyp  \n",
       "2               pvmttkik  \n",
       "3                    NaN  \n",
       "4               mxkfnird  \n",
       "\n",
       "[5 rows x 36 columns]"
      ]
     },
     "execution_count": 4,
     "metadata": {},
     "output_type": "execute_result"
    }
   ],
   "source": [
    "vaccinetest=pd.read_csv('test_set_features.csv')\n",
    "vaccinetest.head()"
   ]
  },
  {
   "cell_type": "code",
   "execution_count": 5,
   "id": "4ad226b6",
   "metadata": {},
   "outputs": [],
   "source": [
    "vaccinelabels=pd.read_csv('training_set_labels.csv')\n",
    "# 2 dependent variables seasonal_vaccine and h1n1_vaccine\n",
    "# seasonal_vaccine Balanced data\n",
    "# h1n1_vaccine Imbalanced data"
   ]
  },
  {
   "cell_type": "code",
   "execution_count": 6,
   "id": "cd630db5",
   "metadata": {},
   "outputs": [
    {
     "data": {
      "image/png": "[encoded data removed]",
      "text/plain": [
       "<Figure size 640x480 with 1 Axes>"
      ]
     },
     "metadata": {},
     "output_type": "display_data"
    }
   ],
   "source": [
    "#seasonal vaccine -Balanced Data\n",
    "ax= vaccinelabels.seasonal_vaccine.value_counts().plot(kind='bar')\n",
    "for i in ax.containers:\n",
    "    ax.bar_label(i)"
   ]
  },
  {
   "cell_type": "code",
   "execution_count": 7,
   "id": "fd6b8114",
   "metadata": {},
   "outputs": [
    {
     "data": {
      "image/png": "[encoded data removed]",
      "text/plain": [
       "<Figure size 640x480 with 1 Axes>"
      ]
     },
     "metadata": {},
     "output_type": "display_data"
    }
   ],
   "source": [
    "#h1n1 vaccine -ImBalanced Data\n",
    "ax= vaccinelabels.h1n1_vaccine.value_counts().plot(kind='bar')\n",
    "for i in ax.containers:\n",
    "    ax.bar_label(i)"
   ]
  },
  {
   "cell_type": "code",
   "execution_count": 8,
   "id": "2fbfcd57",
   "metadata": {},
   "outputs": [
    {
     "name": "stdout",
     "output_type": "stream",
     "text": [
      "<class 'pandas.core.frame.DataFrame'>\n",
      "RangeIndex: 26707 entries, 0 to 26706\n",
      "Data columns (total 36 columns):\n",
      " #   Column                       Non-Null Count  Dtype  \n",
      "---  ------                       --------------  -----  \n",
      " 0   respondent_id                26707 non-null  int64  \n",
      " 1   h1n1_concern                 26615 non-null  float64\n",
      " 2   h1n1_knowledge               26591 non-null  float64\n",
      " 3   behavioral_antiviral_meds    26636 non-null  float64\n",
      " 4   behavioral_avoidance         26499 non-null  float64\n",
      " 5   behavioral_face_mask         26688 non-null  float64\n",
      " 6   behavioral_wash_hands        26665 non-null  float64\n",
      " 7   behavioral_large_gatherings  26620 non-null  float64\n",
      " 8   behavioral_outside_home      26625 non-null  float64\n",
      " 9   behavioral_touch_face        26579 non-null  float64\n",
      " 10  doctor_recc_h1n1             24547 non-null  float64\n",
      " 11  doctor_recc_seasonal         24547 non-null  float64\n",
      " 12  chronic_med_condition        25736 non-null  float64\n",
      " 13  child_under_6_months         25887 non-null  float64\n",
      " 14  health_worker                25903 non-null  float64\n",
      " 15  health_insurance             14433 non-null  float64\n",
      " 16  opinion_h1n1_vacc_effective  26316 non-null  float64\n",
      " 17  opinion_h1n1_risk            26319 non-null  float64\n",
      " 18  opinion_h1n1_sick_from_vacc  26312 non-null  float64\n",
      " 19  opinion_seas_vacc_effective  26245 non-null  float64\n",
      " 20  opinion_seas_risk            26193 non-null  float64\n",
      " 21  opinion_seas_sick_from_vacc  26170 non-null  float64\n",
      " 22  age_group                    26707 non-null  object \n",
      " 23  education                    25300 non-null  object \n",
      " 24  race                         26707 non-null  object \n",
      " 25  sex                          26707 non-null  object \n",
      " 26  income_poverty               22284 non-null  object \n",
      " 27  marital_status               25299 non-null  object \n",
      " 28  rent_or_own                  24665 non-null  object \n",
      " 29  employment_status            25244 non-null  object \n",
      " 30  hhs_geo_region               26707 non-null  object \n",
      " 31  census_msa                   26707 non-null  object \n",
      " 32  household_adults             26458 non-null  float64\n",
      " 33  household_children           26458 non-null  float64\n",
      " 34  employment_industry          13377 non-null  object \n",
      " 35  employment_occupation        13237 non-null  object \n",
      "dtypes: float64(23), int64(1), object(12)\n",
      "memory usage: 7.3+ MB\n"
     ]
    }
   ],
   "source": [
    "vaccinetrain.info()"
   ]
  },
  {
   "cell_type": "code",
   "execution_count": 9,
   "id": "e011759c",
   "metadata": {},
   "outputs": [
    {
     "name": "stdout",
     "output_type": "stream",
     "text": [
      "<class 'pandas.core.frame.DataFrame'>\n",
      "RangeIndex: 26708 entries, 0 to 26707\n",
      "Data columns (total 36 columns):\n",
      " #   Column                       Non-Null Count  Dtype  \n",
      "---  ------                       --------------  -----  \n",
      " 0   respondent_id                26708 non-null  int64  \n",
      " 1   h1n1_concern                 26623 non-null  float64\n",
      " 2   h1n1_knowledge               26586 non-null  float64\n",
      " 3   behavioral_antiviral_meds    26629 non-null  float64\n",
      " 4   behavioral_avoidance         26495 non-null  float64\n",
      " 5   behavioral_face_mask         26689 non-null  float64\n",
      " 6   behavioral_wash_hands        26668 non-null  float64\n",
      " 7   behavioral_large_gatherings  26636 non-null  float64\n",
      " 8   behavioral_outside_home      26626 non-null  float64\n",
      " 9   behavioral_touch_face        26580 non-null  float64\n",
      " 10  doctor_recc_h1n1             24548 non-null  float64\n",
      " 11  doctor_recc_seasonal         24548 non-null  float64\n",
      " 12  chronic_med_condition        25776 non-null  float64\n",
      " 13  child_under_6_months         25895 non-null  float64\n",
      " 14  health_worker                25919 non-null  float64\n",
      " 15  health_insurance             14480 non-null  float64\n",
      " 16  opinion_h1n1_vacc_effective  26310 non-null  float64\n",
      " 17  opinion_h1n1_risk            26328 non-null  float64\n",
      " 18  opinion_h1n1_sick_from_vacc  26333 non-null  float64\n",
      " 19  opinion_seas_vacc_effective  26256 non-null  float64\n",
      " 20  opinion_seas_risk            26209 non-null  float64\n",
      " 21  opinion_seas_sick_from_vacc  26187 non-null  float64\n",
      " 22  age_group                    26708 non-null  object \n",
      " 23  education                    25301 non-null  object \n",
      " 24  race                         26708 non-null  object \n",
      " 25  sex                          26708 non-null  object \n",
      " 26  income_poverty               22211 non-null  object \n",
      " 27  marital_status               25266 non-null  object \n",
      " 28  rent_or_own                  24672 non-null  object \n",
      " 29  employment_status            25237 non-null  object \n",
      " 30  hhs_geo_region               26708 non-null  object \n",
      " 31  census_msa                   26708 non-null  object \n",
      " 32  household_adults             26483 non-null  float64\n",
      " 33  household_children           26483 non-null  float64\n",
      " 34  employment_industry          13433 non-null  object \n",
      " 35  employment_occupation        13282 non-null  object \n",
      "dtypes: float64(23), int64(1), object(12)\n",
      "memory usage: 7.3+ MB\n"
     ]
    }
   ],
   "source": [
    "vaccinetest.info()"
   ]
  },
  {
   "cell_type": "code",
   "execution_count": 10,
   "id": "8d1a9673",
   "metadata": {},
   "outputs": [
    {
     "data": {
      "text/plain": [
       "respondent_id                      0\n",
       "h1n1_concern                      92\n",
       "h1n1_knowledge                   116\n",
       "behavioral_antiviral_meds         71\n",
       "behavioral_avoidance             208\n",
       "behavioral_face_mask              19\n",
       "behavioral_wash_hands             42\n",
       "behavioral_large_gatherings       87\n",
       "behavioral_outside_home           82\n",
       "behavioral_touch_face            128\n",
       "doctor_recc_h1n1                2160\n",
       "doctor_recc_seasonal            2160\n",
       "chronic_med_condition            971\n",
       "child_under_6_months             820\n",
       "health_worker                    804\n",
       "health_insurance               12274\n",
       "opinion_h1n1_vacc_effective      391\n",
       "opinion_h1n1_risk                388\n",
       "opinion_h1n1_sick_from_vacc      395\n",
       "opinion_seas_vacc_effective      462\n",
       "opinion_seas_risk                514\n",
       "opinion_seas_sick_from_vacc      537\n",
       "age_group                          0\n",
       "education                       1407\n",
       "race                               0\n",
       "sex                                0\n",
       "income_poverty                  4423\n",
       "marital_status                  1408\n",
       "rent_or_own                     2042\n",
       "employment_status               1463\n",
       "hhs_geo_region                     0\n",
       "census_msa                         0\n",
       "household_adults                 249\n",
       "household_children               249\n",
       "employment_industry            13330\n",
       "employment_occupation          13470\n",
       "dtype: int64"
      ]
     },
     "execution_count": 10,
     "metadata": {},
     "output_type": "execute_result"
    }
   ],
   "source": [
    "vaccinetrain.isnull().sum()"
   ]
  },
  {
   "cell_type": "code",
   "execution_count": 11,
   "id": "f8cfb5ec",
   "metadata": {},
   "outputs": [
    {
     "data": {
      "text/plain": [
       "respondent_id                      0\n",
       "h1n1_concern                      85\n",
       "h1n1_knowledge                   122\n",
       "behavioral_antiviral_meds         79\n",
       "behavioral_avoidance             213\n",
       "behavioral_face_mask              19\n",
       "behavioral_wash_hands             40\n",
       "behavioral_large_gatherings       72\n",
       "behavioral_outside_home           82\n",
       "behavioral_touch_face            128\n",
       "doctor_recc_h1n1                2160\n",
       "doctor_recc_seasonal            2160\n",
       "chronic_med_condition            932\n",
       "child_under_6_months             813\n",
       "health_worker                    789\n",
       "health_insurance               12228\n",
       "opinion_h1n1_vacc_effective      398\n",
       "opinion_h1n1_risk                380\n",
       "opinion_h1n1_sick_from_vacc      375\n",
       "opinion_seas_vacc_effective      452\n",
       "opinion_seas_risk                499\n",
       "opinion_seas_sick_from_vacc      521\n",
       "age_group                          0\n",
       "education                       1407\n",
       "race                               0\n",
       "sex                                0\n",
       "income_poverty                  4497\n",
       "marital_status                  1442\n",
       "rent_or_own                     2036\n",
       "employment_status               1471\n",
       "hhs_geo_region                     0\n",
       "census_msa                         0\n",
       "household_adults                 225\n",
       "household_children               225\n",
       "employment_industry            13275\n",
       "employment_occupation          13426\n",
       "dtype: int64"
      ]
     },
     "execution_count": 11,
     "metadata": {},
     "output_type": "execute_result"
    }
   ],
   "source": [
    "vaccinetest.isnull().sum()"
   ]
  },
  {
   "cell_type": "code",
   "execution_count": 12,
   "id": "9a744385",
   "metadata": {},
   "outputs": [],
   "source": [
    "#concatinate both the dataframes for preprocessing\n",
    "combinedf=pd.concat([vaccinetrain,vaccinetest],axis=0)"
   ]
  },
  {
   "cell_type": "code",
   "execution_count": 13,
   "id": "40aa640b",
   "metadata": {},
   "outputs": [
    {
     "name": "stdout",
     "output_type": "stream",
     "text": [
      "<class 'pandas.core.frame.DataFrame'>\n",
      "Index: 53415 entries, 0 to 26707\n",
      "Data columns (total 36 columns):\n",
      " #   Column                       Non-Null Count  Dtype  \n",
      "---  ------                       --------------  -----  \n",
      " 0   respondent_id                53415 non-null  int64  \n",
      " 1   h1n1_concern                 53238 non-null  float64\n",
      " 2   h1n1_knowledge               53177 non-null  float64\n",
      " 3   behavioral_antiviral_meds    53265 non-null  float64\n",
      " 4   behavioral_avoidance         52994 non-null  float64\n",
      " 5   behavioral_face_mask         53377 non-null  float64\n",
      " 6   behavioral_wash_hands        53333 non-null  float64\n",
      " 7   behavioral_large_gatherings  53256 non-null  float64\n",
      " 8   behavioral_outside_home      53251 non-null  float64\n",
      " 9   behavioral_touch_face        53159 non-null  float64\n",
      " 10  doctor_recc_h1n1             49095 non-null  float64\n",
      " 11  doctor_recc_seasonal         49095 non-null  float64\n",
      " 12  chronic_med_condition        51512 non-null  float64\n",
      " 13  child_under_6_months         51782 non-null  float64\n",
      " 14  health_worker                51822 non-null  float64\n",
      " 15  health_insurance             28913 non-null  float64\n",
      " 16  opinion_h1n1_vacc_effective  52626 non-null  float64\n",
      " 17  opinion_h1n1_risk            52647 non-null  float64\n",
      " 18  opinion_h1n1_sick_from_vacc  52645 non-null  float64\n",
      " 19  opinion_seas_vacc_effective  52501 non-null  float64\n",
      " 20  opinion_seas_risk            52402 non-null  float64\n",
      " 21  opinion_seas_sick_from_vacc  52357 non-null  float64\n",
      " 22  age_group                    53415 non-null  object \n",
      " 23  education                    50601 non-null  object \n",
      " 24  race                         53415 non-null  object \n",
      " 25  sex                          53415 non-null  object \n",
      " 26  income_poverty               44495 non-null  object \n",
      " 27  marital_status               50565 non-null  object \n",
      " 28  rent_or_own                  49337 non-null  object \n",
      " 29  employment_status            50481 non-null  object \n",
      " 30  hhs_geo_region               53415 non-null  object \n",
      " 31  census_msa                   53415 non-null  object \n",
      " 32  household_adults             52941 non-null  float64\n",
      " 33  household_children           52941 non-null  float64\n",
      " 34  employment_industry          26810 non-null  object \n",
      " 35  employment_occupation        26519 non-null  object \n",
      "dtypes: float64(23), int64(1), object(12)\n",
      "memory usage: 15.1+ MB\n"
     ]
    }
   ],
   "source": [
    "combinedf.info()"
   ]
  },
  {
   "cell_type": "code",
   "execution_count": 14,
   "id": "8de86cfc",
   "metadata": {},
   "outputs": [
    {
     "data": {
      "text/plain": [
       "respondent_id                      0\n",
       "h1n1_concern                     177\n",
       "h1n1_knowledge                   238\n",
       "behavioral_antiviral_meds        150\n",
       "behavioral_avoidance             421\n",
       "behavioral_face_mask              38\n",
       "behavioral_wash_hands             82\n",
       "behavioral_large_gatherings      159\n",
       "behavioral_outside_home          164\n",
       "behavioral_touch_face            256\n",
       "doctor_recc_h1n1                4320\n",
       "doctor_recc_seasonal            4320\n",
       "chronic_med_condition           1903\n",
       "child_under_6_months            1633\n",
       "health_worker                   1593\n",
       "health_insurance               24502\n",
       "opinion_h1n1_vacc_effective      789\n",
       "opinion_h1n1_risk                768\n",
       "opinion_h1n1_sick_from_vacc      770\n",
       "opinion_seas_vacc_effective      914\n",
       "opinion_seas_risk               1013\n",
       "opinion_seas_sick_from_vacc     1058\n",
       "age_group                          0\n",
       "education                       2814\n",
       "race                               0\n",
       "sex                                0\n",
       "income_poverty                  8920\n",
       "marital_status                  2850\n",
       "rent_or_own                     4078\n",
       "employment_status               2934\n",
       "hhs_geo_region                     0\n",
       "census_msa                         0\n",
       "household_adults                 474\n",
       "household_children               474\n",
       "employment_industry            26605\n",
       "employment_occupation          26896\n",
       "dtype: int64"
      ]
     },
     "execution_count": 14,
     "metadata": {},
     "output_type": "execute_result"
    }
   ],
   "source": [
    "combinedf.isnull().sum()"
   ]
  },
  {
   "cell_type": "code",
   "execution_count": 15,
   "id": "deb63a7e",
   "metadata": {},
   "outputs": [],
   "source": [
    "#algorithm based missing valuse imputation (algorithm based)- considers impact of other variables on the missing value and\n",
    "# imputes accordingly. \n",
    "# MICE- Multivariate Imputation using chained equations\n",
    "# imputes both numeric and non numeric categorical variables\n",
    "\n",
    "# step-1 Impute missing values woth mean (numeric) and mode (categorical)\n",
    "# step-2 makes the missing values variables as dependent variable and if missing value variable is \n",
    "# numeric - Regression Algorithm\n",
    "# non numeric- Classification Algorithm\n",
    "# chained equations is where missing value variable or column is treated as dependent variable and all other variables as \n",
    "# independent variables and relevant regression/classification model is built.\n",
    "# step-3 Missing values will be replace by predicted value/classes"
   ]
  },
  {
   "cell_type": "code",
   "execution_count": 16,
   "id": "31843ba6",
   "metadata": {},
   "outputs": [],
   "source": [
    "# in python IterativeImputer in sklearn is experimental as of now IterativeImputer is similar to MICE algorithm\n",
    "# before implementing IterativeImputer\n",
    "# 1) Drop irrelevant variables or column\n",
    "# 2) LabelEncode all object and categorical data, but retain missing as missing"
   ]
  },
  {
   "cell_type": "code",
   "execution_count": 17,
   "id": "972b109d",
   "metadata": {},
   "outputs": [
    {
     "data": {
      "text/html": [
       "<div>\n",
       "<style scoped>\n",
       "    .dataframe tbody tr th:only-of-type {\n",
       "        vertical-align: middle;\n",
       "    }\n",
       "\n",
       "    .dataframe tbody tr th {\n",
       "        vertical-align: top;\n",
       "    }\n",
       "\n",
       "    .dataframe thead th {\n",
       "        text-align: right;\n",
       "    }\n",
       "</style>\n",
       "<table border=\"1\" class=\"dataframe\">\n",
       "  <thead>\n",
       "    <tr style=\"text-align: right;\">\n",
       "      <th></th>\n",
       "      <th>respondent_id</th>\n",
       "      <th>h1n1_concern</th>\n",
       "      <th>h1n1_knowledge</th>\n",
       "      <th>behavioral_antiviral_meds</th>\n",
       "      <th>behavioral_avoidance</th>\n",
       "      <th>behavioral_face_mask</th>\n",
       "      <th>behavioral_wash_hands</th>\n",
       "      <th>behavioral_large_gatherings</th>\n",
       "      <th>behavioral_outside_home</th>\n",
       "      <th>behavioral_touch_face</th>\n",
       "      <th>...</th>\n",
       "      <th>income_poverty</th>\n",
       "      <th>marital_status</th>\n",
       "      <th>rent_or_own</th>\n",
       "      <th>employment_status</th>\n",
       "      <th>hhs_geo_region</th>\n",
       "      <th>census_msa</th>\n",
       "      <th>household_adults</th>\n",
       "      <th>household_children</th>\n",
       "      <th>employment_industry</th>\n",
       "      <th>employment_occupation</th>\n",
       "    </tr>\n",
       "  </thead>\n",
       "  <tbody>\n",
       "    <tr>\n",
       "      <th>0</th>\n",
       "      <td>0</td>\n",
       "      <td>1.0</td>\n",
       "      <td>0.0</td>\n",
       "      <td>0.0</td>\n",
       "      <td>0.0</td>\n",
       "      <td>0.0</td>\n",
       "      <td>0.0</td>\n",
       "      <td>0.0</td>\n",
       "      <td>1.0</td>\n",
       "      <td>1.0</td>\n",
       "      <td>...</td>\n",
       "      <td>Below Poverty</td>\n",
       "      <td>Not Married</td>\n",
       "      <td>Own</td>\n",
       "      <td>Not in Labor Force</td>\n",
       "      <td>oxchjgsf</td>\n",
       "      <td>Non-MSA</td>\n",
       "      <td>0.0</td>\n",
       "      <td>0.0</td>\n",
       "      <td>NaN</td>\n",
       "      <td>NaN</td>\n",
       "    </tr>\n",
       "    <tr>\n",
       "      <th>1</th>\n",
       "      <td>1</td>\n",
       "      <td>3.0</td>\n",
       "      <td>2.0</td>\n",
       "      <td>0.0</td>\n",
       "      <td>1.0</td>\n",
       "      <td>0.0</td>\n",
       "      <td>1.0</td>\n",
       "      <td>0.0</td>\n",
       "      <td>1.0</td>\n",
       "      <td>1.0</td>\n",
       "      <td>...</td>\n",
       "      <td>Below Poverty</td>\n",
       "      <td>Not Married</td>\n",
       "      <td>Rent</td>\n",
       "      <td>Employed</td>\n",
       "      <td>bhuqouqj</td>\n",
       "      <td>MSA, Not Principle  City</td>\n",
       "      <td>0.0</td>\n",
       "      <td>0.0</td>\n",
       "      <td>pxcmvdjn</td>\n",
       "      <td>xgwztkwe</td>\n",
       "    </tr>\n",
       "    <tr>\n",
       "      <th>2</th>\n",
       "      <td>2</td>\n",
       "      <td>1.0</td>\n",
       "      <td>1.0</td>\n",
       "      <td>0.0</td>\n",
       "      <td>1.0</td>\n",
       "      <td>0.0</td>\n",
       "      <td>0.0</td>\n",
       "      <td>0.0</td>\n",
       "      <td>0.0</td>\n",
       "      <td>0.0</td>\n",
       "      <td>...</td>\n",
       "      <td>&lt;= $75,000, Above Poverty</td>\n",
       "      <td>Not Married</td>\n",
       "      <td>Own</td>\n",
       "      <td>Employed</td>\n",
       "      <td>qufhixun</td>\n",
       "      <td>MSA, Not Principle  City</td>\n",
       "      <td>2.0</td>\n",
       "      <td>0.0</td>\n",
       "      <td>rucpziij</td>\n",
       "      <td>xtkaffoo</td>\n",
       "    </tr>\n",
       "    <tr>\n",
       "      <th>3</th>\n",
       "      <td>3</td>\n",
       "      <td>1.0</td>\n",
       "      <td>1.0</td>\n",
       "      <td>0.0</td>\n",
       "      <td>1.0</td>\n",
       "      <td>0.0</td>\n",
       "      <td>1.0</td>\n",
       "      <td>1.0</td>\n",
       "      <td>0.0</td>\n",
       "      <td>0.0</td>\n",
       "      <td>...</td>\n",
       "      <td>Below Poverty</td>\n",
       "      <td>Not Married</td>\n",
       "      <td>Rent</td>\n",
       "      <td>Not in Labor Force</td>\n",
       "      <td>lrircsnp</td>\n",
       "      <td>MSA, Principle City</td>\n",
       "      <td>0.0</td>\n",
       "      <td>0.0</td>\n",
       "      <td>NaN</td>\n",
       "      <td>NaN</td>\n",
       "    </tr>\n",
       "    <tr>\n",
       "      <th>4</th>\n",
       "      <td>4</td>\n",
       "      <td>2.0</td>\n",
       "      <td>1.0</td>\n",
       "      <td>0.0</td>\n",
       "      <td>1.0</td>\n",
       "      <td>0.0</td>\n",
       "      <td>1.0</td>\n",
       "      <td>1.0</td>\n",
       "      <td>0.0</td>\n",
       "      <td>1.0</td>\n",
       "      <td>...</td>\n",
       "      <td>&lt;= $75,000, Above Poverty</td>\n",
       "      <td>Married</td>\n",
       "      <td>Own</td>\n",
       "      <td>Employed</td>\n",
       "      <td>qufhixun</td>\n",
       "      <td>MSA, Not Principle  City</td>\n",
       "      <td>1.0</td>\n",
       "      <td>0.0</td>\n",
       "      <td>wxleyezf</td>\n",
       "      <td>emcorrxb</td>\n",
       "    </tr>\n",
       "  </tbody>\n",
       "</table>\n",
       "<p>5 rows × 36 columns</p>\n",
       "</div>"
      ],
      "text/plain": [
       "   respondent_id  h1n1_concern  h1n1_knowledge  behavioral_antiviral_meds  \\\n",
       "0              0           1.0             0.0                        0.0   \n",
       "1              1           3.0             2.0                        0.0   \n",
       "2              2           1.0             1.0                        0.0   \n",
       "3              3           1.0             1.0                        0.0   \n",
       "4              4           2.0             1.0                        0.0   \n",
       "\n",
       "   behavioral_avoidance  behavioral_face_mask  behavioral_wash_hands  \\\n",
       "0                   0.0                   0.0                    0.0   \n",
       "1                   1.0                   0.0                    1.0   \n",
       "2                   1.0                   0.0                    0.0   \n",
       "3                   1.0                   0.0                    1.0   \n",
       "4                   1.0                   0.0                    1.0   \n",
       "\n",
       "   behavioral_large_gatherings  behavioral_outside_home  \\\n",
       "0                          0.0                      1.0   \n",
       "1                          0.0                      1.0   \n",
       "2                          0.0                      0.0   \n",
       "3                          1.0                      0.0   \n",
       "4                          1.0                      0.0   \n",
       "\n",
       "   behavioral_touch_face  ...             income_poverty  marital_status  \\\n",
       "0                    1.0  ...              Below Poverty     Not Married   \n",
       "1                    1.0  ...              Below Poverty     Not Married   \n",
       "2                    0.0  ...  <= $75,000, Above Poverty     Not Married   \n",
       "3                    0.0  ...              Below Poverty     Not Married   \n",
       "4                    1.0  ...  <= $75,000, Above Poverty         Married   \n",
       "\n",
       "   rent_or_own   employment_status  hhs_geo_region                census_msa  \\\n",
       "0          Own  Not in Labor Force        oxchjgsf                   Non-MSA   \n",
       "1         Rent            Employed        bhuqouqj  MSA, Not Principle  City   \n",
       "2          Own            Employed        qufhixun  MSA, Not Principle  City   \n",
       "3         Rent  Not in Labor Force        lrircsnp       MSA, Principle City   \n",
       "4          Own            Employed        qufhixun  MSA, Not Principle  City   \n",
       "\n",
       "   household_adults  household_children  employment_industry  \\\n",
       "0               0.0                 0.0                  NaN   \n",
       "1               0.0                 0.0             pxcmvdjn   \n",
       "2               2.0                 0.0             rucpziij   \n",
       "3               0.0                 0.0                  NaN   \n",
       "4               1.0                 0.0             wxleyezf   \n",
       "\n",
       "   employment_occupation  \n",
       "0                    NaN  \n",
       "1               xgwztkwe  \n",
       "2               xtkaffoo  \n",
       "3                    NaN  \n",
       "4               emcorrxb  \n",
       "\n",
       "[5 rows x 36 columns]"
      ]
     },
     "execution_count": 17,
     "metadata": {},
     "output_type": "execute_result"
    }
   ],
   "source": [
    "combinedf.head()"
   ]
  },
  {
   "cell_type": "code",
   "execution_count": 18,
   "id": "b2efdf06",
   "metadata": {},
   "outputs": [],
   "source": [
    "combinedf=combinedf.drop('respondent_id',axis=1)"
   ]
  },
  {
   "cell_type": "code",
   "execution_count": 19,
   "id": "1d6ba1f9",
   "metadata": {
    "scrolled": false
   },
   "outputs": [
    {
     "data": {
      "text/html": [
       "<div>\n",
       "<style scoped>\n",
       "    .dataframe tbody tr th:only-of-type {\n",
       "        vertical-align: middle;\n",
       "    }\n",
       "\n",
       "    .dataframe tbody tr th {\n",
       "        vertical-align: top;\n",
       "    }\n",
       "\n",
       "    .dataframe thead th {\n",
       "        text-align: right;\n",
       "    }\n",
       "</style>\n",
       "<table border=\"1\" class=\"dataframe\">\n",
       "  <thead>\n",
       "    <tr style=\"text-align: right;\">\n",
       "      <th></th>\n",
       "      <th>h1n1_concern</th>\n",
       "      <th>h1n1_knowledge</th>\n",
       "      <th>behavioral_antiviral_meds</th>\n",
       "      <th>behavioral_avoidance</th>\n",
       "      <th>behavioral_face_mask</th>\n",
       "      <th>behavioral_wash_hands</th>\n",
       "      <th>behavioral_large_gatherings</th>\n",
       "      <th>behavioral_outside_home</th>\n",
       "      <th>behavioral_touch_face</th>\n",
       "      <th>doctor_recc_h1n1</th>\n",
       "      <th>...</th>\n",
       "      <th>income_poverty</th>\n",
       "      <th>marital_status</th>\n",
       "      <th>rent_or_own</th>\n",
       "      <th>employment_status</th>\n",
       "      <th>hhs_geo_region</th>\n",
       "      <th>census_msa</th>\n",
       "      <th>household_adults</th>\n",
       "      <th>household_children</th>\n",
       "      <th>employment_industry</th>\n",
       "      <th>employment_occupation</th>\n",
       "    </tr>\n",
       "  </thead>\n",
       "  <tbody>\n",
       "    <tr>\n",
       "      <th>0</th>\n",
       "      <td>1.0</td>\n",
       "      <td>0.0</td>\n",
       "      <td>0.0</td>\n",
       "      <td>0.0</td>\n",
       "      <td>0.0</td>\n",
       "      <td>0.0</td>\n",
       "      <td>0.0</td>\n",
       "      <td>1.0</td>\n",
       "      <td>1.0</td>\n",
       "      <td>0.0</td>\n",
       "      <td>...</td>\n",
       "      <td>Below Poverty</td>\n",
       "      <td>Not Married</td>\n",
       "      <td>Own</td>\n",
       "      <td>Not in Labor Force</td>\n",
       "      <td>oxchjgsf</td>\n",
       "      <td>Non-MSA</td>\n",
       "      <td>0.0</td>\n",
       "      <td>0.0</td>\n",
       "      <td>NaN</td>\n",
       "      <td>NaN</td>\n",
       "    </tr>\n",
       "    <tr>\n",
       "      <th>1</th>\n",
       "      <td>3.0</td>\n",
       "      <td>2.0</td>\n",
       "      <td>0.0</td>\n",
       "      <td>1.0</td>\n",
       "      <td>0.0</td>\n",
       "      <td>1.0</td>\n",
       "      <td>0.0</td>\n",
       "      <td>1.0</td>\n",
       "      <td>1.0</td>\n",
       "      <td>0.0</td>\n",
       "      <td>...</td>\n",
       "      <td>Below Poverty</td>\n",
       "      <td>Not Married</td>\n",
       "      <td>Rent</td>\n",
       "      <td>Employed</td>\n",
       "      <td>bhuqouqj</td>\n",
       "      <td>MSA, Not Principle  City</td>\n",
       "      <td>0.0</td>\n",
       "      <td>0.0</td>\n",
       "      <td>pxcmvdjn</td>\n",
       "      <td>xgwztkwe</td>\n",
       "    </tr>\n",
       "    <tr>\n",
       "      <th>2</th>\n",
       "      <td>1.0</td>\n",
       "      <td>1.0</td>\n",
       "      <td>0.0</td>\n",
       "      <td>1.0</td>\n",
       "      <td>0.0</td>\n",
       "      <td>0.0</td>\n",
       "      <td>0.0</td>\n",
       "      <td>0.0</td>\n",
       "      <td>0.0</td>\n",
       "      <td>NaN</td>\n",
       "      <td>...</td>\n",
       "      <td>&lt;= $75,000, Above Poverty</td>\n",
       "      <td>Not Married</td>\n",
       "      <td>Own</td>\n",
       "      <td>Employed</td>\n",
       "      <td>qufhixun</td>\n",
       "      <td>MSA, Not Principle  City</td>\n",
       "      <td>2.0</td>\n",
       "      <td>0.0</td>\n",
       "      <td>rucpziij</td>\n",
       "      <td>xtkaffoo</td>\n",
       "    </tr>\n",
       "    <tr>\n",
       "      <th>3</th>\n",
       "      <td>1.0</td>\n",
       "      <td>1.0</td>\n",
       "      <td>0.0</td>\n",
       "      <td>1.0</td>\n",
       "      <td>0.0</td>\n",
       "      <td>1.0</td>\n",
       "      <td>1.0</td>\n",
       "      <td>0.0</td>\n",
       "      <td>0.0</td>\n",
       "      <td>0.0</td>\n",
       "      <td>...</td>\n",
       "      <td>Below Poverty</td>\n",
       "      <td>Not Married</td>\n",
       "      <td>Rent</td>\n",
       "      <td>Not in Labor Force</td>\n",
       "      <td>lrircsnp</td>\n",
       "      <td>MSA, Principle City</td>\n",
       "      <td>0.0</td>\n",
       "      <td>0.0</td>\n",
       "      <td>NaN</td>\n",
       "      <td>NaN</td>\n",
       "    </tr>\n",
       "    <tr>\n",
       "      <th>4</th>\n",
       "      <td>2.0</td>\n",
       "      <td>1.0</td>\n",
       "      <td>0.0</td>\n",
       "      <td>1.0</td>\n",
       "      <td>0.0</td>\n",
       "      <td>1.0</td>\n",
       "      <td>1.0</td>\n",
       "      <td>0.0</td>\n",
       "      <td>1.0</td>\n",
       "      <td>0.0</td>\n",
       "      <td>...</td>\n",
       "      <td>&lt;= $75,000, Above Poverty</td>\n",
       "      <td>Married</td>\n",
       "      <td>Own</td>\n",
       "      <td>Employed</td>\n",
       "      <td>qufhixun</td>\n",
       "      <td>MSA, Not Principle  City</td>\n",
       "      <td>1.0</td>\n",
       "      <td>0.0</td>\n",
       "      <td>wxleyezf</td>\n",
       "      <td>emcorrxb</td>\n",
       "    </tr>\n",
       "  </tbody>\n",
       "</table>\n",
       "<p>5 rows × 35 columns</p>\n",
       "</div>"
      ],
      "text/plain": [
       "   h1n1_concern  h1n1_knowledge  behavioral_antiviral_meds  \\\n",
       "0           1.0             0.0                        0.0   \n",
       "1           3.0             2.0                        0.0   \n",
       "2           1.0             1.0                        0.0   \n",
       "3           1.0             1.0                        0.0   \n",
       "4           2.0             1.0                        0.0   \n",
       "\n",
       "   behavioral_avoidance  behavioral_face_mask  behavioral_wash_hands  \\\n",
       "0                   0.0                   0.0                    0.0   \n",
       "1                   1.0                   0.0                    1.0   \n",
       "2                   1.0                   0.0                    0.0   \n",
       "3                   1.0                   0.0                    1.0   \n",
       "4                   1.0                   0.0                    1.0   \n",
       "\n",
       "   behavioral_large_gatherings  behavioral_outside_home  \\\n",
       "0                          0.0                      1.0   \n",
       "1                          0.0                      1.0   \n",
       "2                          0.0                      0.0   \n",
       "3                          1.0                      0.0   \n",
       "4                          1.0                      0.0   \n",
       "\n",
       "   behavioral_touch_face  doctor_recc_h1n1  ...             income_poverty  \\\n",
       "0                    1.0               0.0  ...              Below Poverty   \n",
       "1                    1.0               0.0  ...              Below Poverty   \n",
       "2                    0.0               NaN  ...  <= $75,000, Above Poverty   \n",
       "3                    0.0               0.0  ...              Below Poverty   \n",
       "4                    1.0               0.0  ...  <= $75,000, Above Poverty   \n",
       "\n",
       "   marital_status  rent_or_own   employment_status  hhs_geo_region  \\\n",
       "0     Not Married          Own  Not in Labor Force        oxchjgsf   \n",
       "1     Not Married         Rent            Employed        bhuqouqj   \n",
       "2     Not Married          Own            Employed        qufhixun   \n",
       "3     Not Married         Rent  Not in Labor Force        lrircsnp   \n",
       "4         Married          Own            Employed        qufhixun   \n",
       "\n",
       "                 census_msa  household_adults  household_children  \\\n",
       "0                   Non-MSA               0.0                 0.0   \n",
       "1  MSA, Not Principle  City               0.0                 0.0   \n",
       "2  MSA, Not Principle  City               2.0                 0.0   \n",
       "3       MSA, Principle City               0.0                 0.0   \n",
       "4  MSA, Not Principle  City               1.0                 0.0   \n",
       "\n",
       "   employment_industry  employment_occupation  \n",
       "0                  NaN                    NaN  \n",
       "1             pxcmvdjn               xgwztkwe  \n",
       "2             rucpziij               xtkaffoo  \n",
       "3                  NaN                    NaN  \n",
       "4             wxleyezf               emcorrxb  \n",
       "\n",
       "[5 rows x 35 columns]"
      ]
     },
     "execution_count": 19,
     "metadata": {},
     "output_type": "execute_result"
    }
   ],
   "source": [
    "combinedf.head()"
   ]
  },
  {
   "cell_type": "code",
   "execution_count": 20,
   "id": "d3bba640",
   "metadata": {},
   "outputs": [],
   "source": [
    "from sklearn.preprocessing import LabelEncoder"
   ]
  },
  {
   "cell_type": "code",
   "execution_count": 21,
   "id": "f54b891f",
   "metadata": {},
   "outputs": [],
   "source": [
    "original=combinedf"
   ]
  },
  {
   "cell_type": "code",
   "execution_count": 22,
   "id": "4cefb0fb",
   "metadata": {},
   "outputs": [],
   "source": [
    "mask=combinedf.isnull()"
   ]
  },
  {
   "cell_type": "code",
   "execution_count": 23,
   "id": "b5cc7084",
   "metadata": {},
   "outputs": [
    {
     "data": {
      "text/html": [
       "<div>\n",
       "<style scoped>\n",
       "    .dataframe tbody tr th:only-of-type {\n",
       "        vertical-align: middle;\n",
       "    }\n",
       "\n",
       "    .dataframe tbody tr th {\n",
       "        vertical-align: top;\n",
       "    }\n",
       "\n",
       "    .dataframe thead th {\n",
       "        text-align: right;\n",
       "    }\n",
       "</style>\n",
       "<table border=\"1\" class=\"dataframe\">\n",
       "  <thead>\n",
       "    <tr style=\"text-align: right;\">\n",
       "      <th></th>\n",
       "      <th>h1n1_concern</th>\n",
       "      <th>h1n1_knowledge</th>\n",
       "      <th>behavioral_antiviral_meds</th>\n",
       "      <th>behavioral_avoidance</th>\n",
       "      <th>behavioral_face_mask</th>\n",
       "      <th>behavioral_wash_hands</th>\n",
       "      <th>behavioral_large_gatherings</th>\n",
       "      <th>behavioral_outside_home</th>\n",
       "      <th>behavioral_touch_face</th>\n",
       "      <th>doctor_recc_h1n1</th>\n",
       "      <th>...</th>\n",
       "      <th>income_poverty</th>\n",
       "      <th>marital_status</th>\n",
       "      <th>rent_or_own</th>\n",
       "      <th>employment_status</th>\n",
       "      <th>hhs_geo_region</th>\n",
       "      <th>census_msa</th>\n",
       "      <th>household_adults</th>\n",
       "      <th>household_children</th>\n",
       "      <th>employment_industry</th>\n",
       "      <th>employment_occupation</th>\n",
       "    </tr>\n",
       "  </thead>\n",
       "  <tbody>\n",
       "    <tr>\n",
       "      <th>0</th>\n",
       "      <td>False</td>\n",
       "      <td>False</td>\n",
       "      <td>False</td>\n",
       "      <td>False</td>\n",
       "      <td>False</td>\n",
       "      <td>False</td>\n",
       "      <td>False</td>\n",
       "      <td>False</td>\n",
       "      <td>False</td>\n",
       "      <td>False</td>\n",
       "      <td>...</td>\n",
       "      <td>False</td>\n",
       "      <td>False</td>\n",
       "      <td>False</td>\n",
       "      <td>False</td>\n",
       "      <td>False</td>\n",
       "      <td>False</td>\n",
       "      <td>False</td>\n",
       "      <td>False</td>\n",
       "      <td>True</td>\n",
       "      <td>True</td>\n",
       "    </tr>\n",
       "    <tr>\n",
       "      <th>1</th>\n",
       "      <td>False</td>\n",
       "      <td>False</td>\n",
       "      <td>False</td>\n",
       "      <td>False</td>\n",
       "      <td>False</td>\n",
       "      <td>False</td>\n",
       "      <td>False</td>\n",
       "      <td>False</td>\n",
       "      <td>False</td>\n",
       "      <td>False</td>\n",
       "      <td>...</td>\n",
       "      <td>False</td>\n",
       "      <td>False</td>\n",
       "      <td>False</td>\n",
       "      <td>False</td>\n",
       "      <td>False</td>\n",
       "      <td>False</td>\n",
       "      <td>False</td>\n",
       "      <td>False</td>\n",
       "      <td>False</td>\n",
       "      <td>False</td>\n",
       "    </tr>\n",
       "    <tr>\n",
       "      <th>2</th>\n",
       "      <td>False</td>\n",
       "      <td>False</td>\n",
       "      <td>False</td>\n",
       "      <td>False</td>\n",
       "      <td>False</td>\n",
       "      <td>False</td>\n",
       "      <td>False</td>\n",
       "      <td>False</td>\n",
       "      <td>False</td>\n",
       "      <td>True</td>\n",
       "      <td>...</td>\n",
       "      <td>False</td>\n",
       "      <td>False</td>\n",
       "      <td>False</td>\n",
       "      <td>False</td>\n",
       "      <td>False</td>\n",
       "      <td>False</td>\n",
       "      <td>False</td>\n",
       "      <td>False</td>\n",
       "      <td>False</td>\n",
       "      <td>False</td>\n",
       "    </tr>\n",
       "    <tr>\n",
       "      <th>3</th>\n",
       "      <td>False</td>\n",
       "      <td>False</td>\n",
       "      <td>False</td>\n",
       "      <td>False</td>\n",
       "      <td>False</td>\n",
       "      <td>False</td>\n",
       "      <td>False</td>\n",
       "      <td>False</td>\n",
       "      <td>False</td>\n",
       "      <td>False</td>\n",
       "      <td>...</td>\n",
       "      <td>False</td>\n",
       "      <td>False</td>\n",
       "      <td>False</td>\n",
       "      <td>False</td>\n",
       "      <td>False</td>\n",
       "      <td>False</td>\n",
       "      <td>False</td>\n",
       "      <td>False</td>\n",
       "      <td>True</td>\n",
       "      <td>True</td>\n",
       "    </tr>\n",
       "    <tr>\n",
       "      <th>4</th>\n",
       "      <td>False</td>\n",
       "      <td>False</td>\n",
       "      <td>False</td>\n",
       "      <td>False</td>\n",
       "      <td>False</td>\n",
       "      <td>False</td>\n",
       "      <td>False</td>\n",
       "      <td>False</td>\n",
       "      <td>False</td>\n",
       "      <td>False</td>\n",
       "      <td>...</td>\n",
       "      <td>False</td>\n",
       "      <td>False</td>\n",
       "      <td>False</td>\n",
       "      <td>False</td>\n",
       "      <td>False</td>\n",
       "      <td>False</td>\n",
       "      <td>False</td>\n",
       "      <td>False</td>\n",
       "      <td>False</td>\n",
       "      <td>False</td>\n",
       "    </tr>\n",
       "  </tbody>\n",
       "</table>\n",
       "<p>5 rows × 35 columns</p>\n",
       "</div>"
      ],
      "text/plain": [
       "   h1n1_concern  h1n1_knowledge  behavioral_antiviral_meds  \\\n",
       "0         False           False                      False   \n",
       "1         False           False                      False   \n",
       "2         False           False                      False   \n",
       "3         False           False                      False   \n",
       "4         False           False                      False   \n",
       "\n",
       "   behavioral_avoidance  behavioral_face_mask  behavioral_wash_hands  \\\n",
       "0                 False                 False                  False   \n",
       "1                 False                 False                  False   \n",
       "2                 False                 False                  False   \n",
       "3                 False                 False                  False   \n",
       "4                 False                 False                  False   \n",
       "\n",
       "   behavioral_large_gatherings  behavioral_outside_home  \\\n",
       "0                        False                    False   \n",
       "1                        False                    False   \n",
       "2                        False                    False   \n",
       "3                        False                    False   \n",
       "4                        False                    False   \n",
       "\n",
       "   behavioral_touch_face  doctor_recc_h1n1  ...  income_poverty  \\\n",
       "0                  False             False  ...           False   \n",
       "1                  False             False  ...           False   \n",
       "2                  False              True  ...           False   \n",
       "3                  False             False  ...           False   \n",
       "4                  False             False  ...           False   \n",
       "\n",
       "   marital_status  rent_or_own  employment_status  hhs_geo_region  census_msa  \\\n",
       "0           False        False              False           False       False   \n",
       "1           False        False              False           False       False   \n",
       "2           False        False              False           False       False   \n",
       "3           False        False              False           False       False   \n",
       "4           False        False              False           False       False   \n",
       "\n",
       "   household_adults  household_children  employment_industry  \\\n",
       "0             False               False                 True   \n",
       "1             False               False                False   \n",
       "2             False               False                False   \n",
       "3             False               False                 True   \n",
       "4             False               False                False   \n",
       "\n",
       "   employment_occupation  \n",
       "0                   True  \n",
       "1                  False  \n",
       "2                  False  \n",
       "3                   True  \n",
       "4                  False  \n",
       "\n",
       "[5 rows x 35 columns]"
      ]
     },
     "execution_count": 23,
     "metadata": {},
     "output_type": "execute_result"
    }
   ],
   "source": [
    "mask.head()"
   ]
  },
  {
   "cell_type": "code",
   "execution_count": 24,
   "id": "fabb8a8e",
   "metadata": {},
   "outputs": [],
   "source": [
    "combinedf=combinedf.astype(str).apply(LabelEncoder().fit_transform)"
   ]
  },
  {
   "cell_type": "code",
   "execution_count": 25,
   "id": "a738368b",
   "metadata": {},
   "outputs": [],
   "source": [
    "combinedf=combinedf.where(~mask,original)"
   ]
  },
  {
   "cell_type": "code",
   "execution_count": 26,
   "id": "e14a0325",
   "metadata": {},
   "outputs": [
    {
     "data": {
      "text/html": [
       "<div>\n",
       "<style scoped>\n",
       "    .dataframe tbody tr th:only-of-type {\n",
       "        vertical-align: middle;\n",
       "    }\n",
       "\n",
       "    .dataframe tbody tr th {\n",
       "        vertical-align: top;\n",
       "    }\n",
       "\n",
       "    .dataframe thead th {\n",
       "        text-align: right;\n",
       "    }\n",
       "</style>\n",
       "<table border=\"1\" class=\"dataframe\">\n",
       "  <thead>\n",
       "    <tr style=\"text-align: right;\">\n",
       "      <th></th>\n",
       "      <th>h1n1_concern</th>\n",
       "      <th>h1n1_knowledge</th>\n",
       "      <th>behavioral_antiviral_meds</th>\n",
       "      <th>behavioral_avoidance</th>\n",
       "      <th>behavioral_face_mask</th>\n",
       "      <th>behavioral_wash_hands</th>\n",
       "      <th>behavioral_large_gatherings</th>\n",
       "      <th>behavioral_outside_home</th>\n",
       "      <th>behavioral_touch_face</th>\n",
       "      <th>doctor_recc_h1n1</th>\n",
       "      <th>...</th>\n",
       "      <th>income_poverty</th>\n",
       "      <th>marital_status</th>\n",
       "      <th>rent_or_own</th>\n",
       "      <th>employment_status</th>\n",
       "      <th>hhs_geo_region</th>\n",
       "      <th>census_msa</th>\n",
       "      <th>household_adults</th>\n",
       "      <th>household_children</th>\n",
       "      <th>employment_industry</th>\n",
       "      <th>employment_occupation</th>\n",
       "    </tr>\n",
       "  </thead>\n",
       "  <tbody>\n",
       "    <tr>\n",
       "      <th>0</th>\n",
       "      <td>1</td>\n",
       "      <td>0</td>\n",
       "      <td>0</td>\n",
       "      <td>0</td>\n",
       "      <td>0</td>\n",
       "      <td>0</td>\n",
       "      <td>0</td>\n",
       "      <td>1</td>\n",
       "      <td>1</td>\n",
       "      <td>0</td>\n",
       "      <td>...</td>\n",
       "      <td>2</td>\n",
       "      <td>1</td>\n",
       "      <td>0</td>\n",
       "      <td>1</td>\n",
       "      <td>8</td>\n",
       "      <td>2</td>\n",
       "      <td>0</td>\n",
       "      <td>0</td>\n",
       "      <td>NaN</td>\n",
       "      <td>NaN</td>\n",
       "    </tr>\n",
       "    <tr>\n",
       "      <th>1</th>\n",
       "      <td>3</td>\n",
       "      <td>2</td>\n",
       "      <td>0</td>\n",
       "      <td>1</td>\n",
       "      <td>0</td>\n",
       "      <td>1</td>\n",
       "      <td>0</td>\n",
       "      <td>1</td>\n",
       "      <td>1</td>\n",
       "      <td>0</td>\n",
       "      <td>...</td>\n",
       "      <td>2</td>\n",
       "      <td>1</td>\n",
       "      <td>1</td>\n",
       "      <td>0</td>\n",
       "      <td>1</td>\n",
       "      <td>0</td>\n",
       "      <td>0</td>\n",
       "      <td>0</td>\n",
       "      <td>13</td>\n",
       "      <td>20</td>\n",
       "    </tr>\n",
       "    <tr>\n",
       "      <th>2</th>\n",
       "      <td>1</td>\n",
       "      <td>1</td>\n",
       "      <td>0</td>\n",
       "      <td>1</td>\n",
       "      <td>0</td>\n",
       "      <td>0</td>\n",
       "      <td>0</td>\n",
       "      <td>0</td>\n",
       "      <td>0</td>\n",
       "      <td>NaN</td>\n",
       "      <td>...</td>\n",
       "      <td>0</td>\n",
       "      <td>1</td>\n",
       "      <td>0</td>\n",
       "      <td>0</td>\n",
       "      <td>9</td>\n",
       "      <td>0</td>\n",
       "      <td>2</td>\n",
       "      <td>0</td>\n",
       "      <td>15</td>\n",
       "      <td>22</td>\n",
       "    </tr>\n",
       "    <tr>\n",
       "      <th>3</th>\n",
       "      <td>1</td>\n",
       "      <td>1</td>\n",
       "      <td>0</td>\n",
       "      <td>1</td>\n",
       "      <td>0</td>\n",
       "      <td>1</td>\n",
       "      <td>1</td>\n",
       "      <td>0</td>\n",
       "      <td>0</td>\n",
       "      <td>0</td>\n",
       "      <td>...</td>\n",
       "      <td>2</td>\n",
       "      <td>1</td>\n",
       "      <td>1</td>\n",
       "      <td>1</td>\n",
       "      <td>5</td>\n",
       "      <td>1</td>\n",
       "      <td>0</td>\n",
       "      <td>0</td>\n",
       "      <td>NaN</td>\n",
       "      <td>NaN</td>\n",
       "    </tr>\n",
       "    <tr>\n",
       "      <th>4</th>\n",
       "      <td>2</td>\n",
       "      <td>1</td>\n",
       "      <td>0</td>\n",
       "      <td>1</td>\n",
       "      <td>0</td>\n",
       "      <td>1</td>\n",
       "      <td>1</td>\n",
       "      <td>0</td>\n",
       "      <td>1</td>\n",
       "      <td>0</td>\n",
       "      <td>...</td>\n",
       "      <td>0</td>\n",
       "      <td>0</td>\n",
       "      <td>0</td>\n",
       "      <td>0</td>\n",
       "      <td>9</td>\n",
       "      <td>0</td>\n",
       "      <td>1</td>\n",
       "      <td>0</td>\n",
       "      <td>19</td>\n",
       "      <td>5</td>\n",
       "    </tr>\n",
       "  </tbody>\n",
       "</table>\n",
       "<p>5 rows × 35 columns</p>\n",
       "</div>"
      ],
      "text/plain": [
       "  h1n1_concern h1n1_knowledge behavioral_antiviral_meds behavioral_avoidance  \\\n",
       "0            1              0                         0                    0   \n",
       "1            3              2                         0                    1   \n",
       "2            1              1                         0                    1   \n",
       "3            1              1                         0                    1   \n",
       "4            2              1                         0                    1   \n",
       "\n",
       "  behavioral_face_mask behavioral_wash_hands behavioral_large_gatherings  \\\n",
       "0                    0                     0                           0   \n",
       "1                    0                     1                           0   \n",
       "2                    0                     0                           0   \n",
       "3                    0                     1                           1   \n",
       "4                    0                     1                           1   \n",
       "\n",
       "  behavioral_outside_home behavioral_touch_face doctor_recc_h1n1  ...  \\\n",
       "0                       1                     1                0  ...   \n",
       "1                       1                     1                0  ...   \n",
       "2                       0                     0              NaN  ...   \n",
       "3                       0                     0                0  ...   \n",
       "4                       0                     1                0  ...   \n",
       "\n",
       "  income_poverty marital_status rent_or_own employment_status hhs_geo_region  \\\n",
       "0              2              1           0                 1              8   \n",
       "1              2              1           1                 0              1   \n",
       "2              0              1           0                 0              9   \n",
       "3              2              1           1                 1              5   \n",
       "4              0              0           0                 0              9   \n",
       "\n",
       "  census_msa household_adults household_children employment_industry  \\\n",
       "0          2                0                  0                 NaN   \n",
       "1          0                0                  0                  13   \n",
       "2          0                2                  0                  15   \n",
       "3          1                0                  0                 NaN   \n",
       "4          0                1                  0                  19   \n",
       "\n",
       "  employment_occupation  \n",
       "0                   NaN  \n",
       "1                    20  \n",
       "2                    22  \n",
       "3                   NaN  \n",
       "4                     5  \n",
       "\n",
       "[5 rows x 35 columns]"
      ]
     },
     "execution_count": 26,
     "metadata": {},
     "output_type": "execute_result"
    }
   ],
   "source": [
    "combinedf.head()"
   ]
  },
  {
   "cell_type": "code",
   "execution_count": 27,
   "id": "e7269bcc",
   "metadata": {
    "scrolled": true
   },
   "outputs": [
    {
     "data": {
      "text/html": [
       "<div>\n",
       "<style scoped>\n",
       "    .dataframe tbody tr th:only-of-type {\n",
       "        vertical-align: middle;\n",
       "    }\n",
       "\n",
       "    .dataframe tbody tr th {\n",
       "        vertical-align: top;\n",
       "    }\n",
       "\n",
       "    .dataframe thead th {\n",
       "        text-align: right;\n",
       "    }\n",
       "</style>\n",
       "<table border=\"1\" class=\"dataframe\">\n",
       "  <thead>\n",
       "    <tr style=\"text-align: right;\">\n",
       "      <th></th>\n",
       "      <th>respondent_id</th>\n",
       "      <th>h1n1_concern</th>\n",
       "      <th>h1n1_knowledge</th>\n",
       "      <th>behavioral_antiviral_meds</th>\n",
       "      <th>behavioral_avoidance</th>\n",
       "      <th>behavioral_face_mask</th>\n",
       "      <th>behavioral_wash_hands</th>\n",
       "      <th>behavioral_large_gatherings</th>\n",
       "      <th>behavioral_outside_home</th>\n",
       "      <th>behavioral_touch_face</th>\n",
       "      <th>...</th>\n",
       "      <th>income_poverty</th>\n",
       "      <th>marital_status</th>\n",
       "      <th>rent_or_own</th>\n",
       "      <th>employment_status</th>\n",
       "      <th>hhs_geo_region</th>\n",
       "      <th>census_msa</th>\n",
       "      <th>household_adults</th>\n",
       "      <th>household_children</th>\n",
       "      <th>employment_industry</th>\n",
       "      <th>employment_occupation</th>\n",
       "    </tr>\n",
       "  </thead>\n",
       "  <tbody>\n",
       "    <tr>\n",
       "      <th>0</th>\n",
       "      <td>0</td>\n",
       "      <td>1.0</td>\n",
       "      <td>0.0</td>\n",
       "      <td>0.0</td>\n",
       "      <td>0.0</td>\n",
       "      <td>0.0</td>\n",
       "      <td>0.0</td>\n",
       "      <td>0.0</td>\n",
       "      <td>1.0</td>\n",
       "      <td>1.0</td>\n",
       "      <td>...</td>\n",
       "      <td>Below Poverty</td>\n",
       "      <td>Not Married</td>\n",
       "      <td>Own</td>\n",
       "      <td>Not in Labor Force</td>\n",
       "      <td>oxchjgsf</td>\n",
       "      <td>Non-MSA</td>\n",
       "      <td>0.0</td>\n",
       "      <td>0.0</td>\n",
       "      <td>NaN</td>\n",
       "      <td>NaN</td>\n",
       "    </tr>\n",
       "    <tr>\n",
       "      <th>1</th>\n",
       "      <td>1</td>\n",
       "      <td>3.0</td>\n",
       "      <td>2.0</td>\n",
       "      <td>0.0</td>\n",
       "      <td>1.0</td>\n",
       "      <td>0.0</td>\n",
       "      <td>1.0</td>\n",
       "      <td>0.0</td>\n",
       "      <td>1.0</td>\n",
       "      <td>1.0</td>\n",
       "      <td>...</td>\n",
       "      <td>Below Poverty</td>\n",
       "      <td>Not Married</td>\n",
       "      <td>Rent</td>\n",
       "      <td>Employed</td>\n",
       "      <td>bhuqouqj</td>\n",
       "      <td>MSA, Not Principle  City</td>\n",
       "      <td>0.0</td>\n",
       "      <td>0.0</td>\n",
       "      <td>pxcmvdjn</td>\n",
       "      <td>xgwztkwe</td>\n",
       "    </tr>\n",
       "    <tr>\n",
       "      <th>2</th>\n",
       "      <td>2</td>\n",
       "      <td>1.0</td>\n",
       "      <td>1.0</td>\n",
       "      <td>0.0</td>\n",
       "      <td>1.0</td>\n",
       "      <td>0.0</td>\n",
       "      <td>0.0</td>\n",
       "      <td>0.0</td>\n",
       "      <td>0.0</td>\n",
       "      <td>0.0</td>\n",
       "      <td>...</td>\n",
       "      <td>&lt;= $75,000, Above Poverty</td>\n",
       "      <td>Not Married</td>\n",
       "      <td>Own</td>\n",
       "      <td>Employed</td>\n",
       "      <td>qufhixun</td>\n",
       "      <td>MSA, Not Principle  City</td>\n",
       "      <td>2.0</td>\n",
       "      <td>0.0</td>\n",
       "      <td>rucpziij</td>\n",
       "      <td>xtkaffoo</td>\n",
       "    </tr>\n",
       "    <tr>\n",
       "      <th>3</th>\n",
       "      <td>3</td>\n",
       "      <td>1.0</td>\n",
       "      <td>1.0</td>\n",
       "      <td>0.0</td>\n",
       "      <td>1.0</td>\n",
       "      <td>0.0</td>\n",
       "      <td>1.0</td>\n",
       "      <td>1.0</td>\n",
       "      <td>0.0</td>\n",
       "      <td>0.0</td>\n",
       "      <td>...</td>\n",
       "      <td>Below Poverty</td>\n",
       "      <td>Not Married</td>\n",
       "      <td>Rent</td>\n",
       "      <td>Not in Labor Force</td>\n",
       "      <td>lrircsnp</td>\n",
       "      <td>MSA, Principle City</td>\n",
       "      <td>0.0</td>\n",
       "      <td>0.0</td>\n",
       "      <td>NaN</td>\n",
       "      <td>NaN</td>\n",
       "    </tr>\n",
       "    <tr>\n",
       "      <th>4</th>\n",
       "      <td>4</td>\n",
       "      <td>2.0</td>\n",
       "      <td>1.0</td>\n",
       "      <td>0.0</td>\n",
       "      <td>1.0</td>\n",
       "      <td>0.0</td>\n",
       "      <td>1.0</td>\n",
       "      <td>1.0</td>\n",
       "      <td>0.0</td>\n",
       "      <td>1.0</td>\n",
       "      <td>...</td>\n",
       "      <td>&lt;= $75,000, Above Poverty</td>\n",
       "      <td>Married</td>\n",
       "      <td>Own</td>\n",
       "      <td>Employed</td>\n",
       "      <td>qufhixun</td>\n",
       "      <td>MSA, Not Principle  City</td>\n",
       "      <td>1.0</td>\n",
       "      <td>0.0</td>\n",
       "      <td>wxleyezf</td>\n",
       "      <td>emcorrxb</td>\n",
       "    </tr>\n",
       "  </tbody>\n",
       "</table>\n",
       "<p>5 rows × 36 columns</p>\n",
       "</div>"
      ],
      "text/plain": [
       "   respondent_id  h1n1_concern  h1n1_knowledge  behavioral_antiviral_meds  \\\n",
       "0              0           1.0             0.0                        0.0   \n",
       "1              1           3.0             2.0                        0.0   \n",
       "2              2           1.0             1.0                        0.0   \n",
       "3              3           1.0             1.0                        0.0   \n",
       "4              4           2.0             1.0                        0.0   \n",
       "\n",
       "   behavioral_avoidance  behavioral_face_mask  behavioral_wash_hands  \\\n",
       "0                   0.0                   0.0                    0.0   \n",
       "1                   1.0                   0.0                    1.0   \n",
       "2                   1.0                   0.0                    0.0   \n",
       "3                   1.0                   0.0                    1.0   \n",
       "4                   1.0                   0.0                    1.0   \n",
       "\n",
       "   behavioral_large_gatherings  behavioral_outside_home  \\\n",
       "0                          0.0                      1.0   \n",
       "1                          0.0                      1.0   \n",
       "2                          0.0                      0.0   \n",
       "3                          1.0                      0.0   \n",
       "4                          1.0                      0.0   \n",
       "\n",
       "   behavioral_touch_face  ...             income_poverty  marital_status  \\\n",
       "0                    1.0  ...              Below Poverty     Not Married   \n",
       "1                    1.0  ...              Below Poverty     Not Married   \n",
       "2                    0.0  ...  <= $75,000, Above Poverty     Not Married   \n",
       "3                    0.0  ...              Below Poverty     Not Married   \n",
       "4                    1.0  ...  <= $75,000, Above Poverty         Married   \n",
       "\n",
       "   rent_or_own   employment_status  hhs_geo_region                census_msa  \\\n",
       "0          Own  Not in Labor Force        oxchjgsf                   Non-MSA   \n",
       "1         Rent            Employed        bhuqouqj  MSA, Not Principle  City   \n",
       "2          Own            Employed        qufhixun  MSA, Not Principle  City   \n",
       "3         Rent  Not in Labor Force        lrircsnp       MSA, Principle City   \n",
       "4          Own            Employed        qufhixun  MSA, Not Principle  City   \n",
       "\n",
       "   household_adults  household_children  employment_industry  \\\n",
       "0               0.0                 0.0                  NaN   \n",
       "1               0.0                 0.0             pxcmvdjn   \n",
       "2               2.0                 0.0             rucpziij   \n",
       "3               0.0                 0.0                  NaN   \n",
       "4               1.0                 0.0             wxleyezf   \n",
       "\n",
       "   employment_occupation  \n",
       "0                    NaN  \n",
       "1               xgwztkwe  \n",
       "2               xtkaffoo  \n",
       "3                    NaN  \n",
       "4               emcorrxb  \n",
       "\n",
       "[5 rows x 36 columns]"
      ]
     },
     "execution_count": 27,
     "metadata": {},
     "output_type": "execute_result"
    }
   ],
   "source": [
    "vaccinetrain.head()"
   ]
  },
  {
   "cell_type": "code",
   "execution_count": 28,
   "id": "618867a6",
   "metadata": {},
   "outputs": [],
   "source": [
    "from sklearn.experimental import enable_iterative_imputer\n",
    "from sklearn.impute import IterativeImputer\n",
    "from sklearn.tree import DecisionTreeClassifier"
   ]
  },
  {
   "cell_type": "code",
   "execution_count": 29,
   "id": "d932eeed",
   "metadata": {},
   "outputs": [],
   "source": [
    "imputer=IterativeImputer(estimator=DecisionTreeClassifier(),initial_strategy='most_frequent',max_iter=50)"
   ]
  },
  {
   "cell_type": "markdown",
   "id": "f2203c73",
   "metadata": {},
   "source": [
    "combinedf_impute=imputer.fit_transform(combinedf)"
   ]
  },
  {
   "cell_type": "markdown",
   "id": "e0875f97",
   "metadata": {},
   "source": [
    "combinedf_impute=pd.DataFrame(combinedf_impute,columns=combinedf.columns)"
   ]
  },
  {
   "cell_type": "markdown",
   "id": "ef35d06b",
   "metadata": {},
   "source": [
    "combinedf_impute.info()"
   ]
  },
  {
   "cell_type": "markdown",
   "id": "30ae6747",
   "metadata": {},
   "source": [
    "combinedf_impute.to_csv('vaccineimp.csv')"
   ]
  },
  {
   "cell_type": "code",
   "execution_count": 30,
   "id": "af2527f1",
   "metadata": {},
   "outputs": [],
   "source": [
    "combinedf_impute=pd.read_csv('vaccineimpute.csv')"
   ]
  },
  {
   "cell_type": "code",
   "execution_count": 31,
   "id": "1aefb307",
   "metadata": {},
   "outputs": [],
   "source": [
    "#split data back to train and test\n",
    "vaccinetrain_df=combinedf_impute.loc[0:26706]\n",
    "vaccinetest_df=combinedf_impute.loc[26707:53414]"
   ]
  },
  {
   "cell_type": "code",
   "execution_count": 32,
   "id": "7d5f87a9",
   "metadata": {},
   "outputs": [
    {
     "name": "stdout",
     "output_type": "stream",
     "text": [
      "(26707, 36)\n",
      "(26708, 36)\n"
     ]
    }
   ],
   "source": [
    "print(vaccinetrain_df.shape)\n",
    "print(vaccinetest_df.shape)"
   ]
  },
  {
   "cell_type": "code",
   "execution_count": 33,
   "id": "e0dfccc4",
   "metadata": {},
   "outputs": [],
   "source": [
    "y=vaccinelabels.h1n1_vaccine\n",
    "X=vaccinetrain_df"
   ]
  },
  {
   "cell_type": "code",
   "execution_count": 34,
   "id": "de70c9b0",
   "metadata": {},
   "outputs": [
    {
     "data": {
      "image/png": "[encoded data removed]",
      "text/plain": [
       "<Figure size 2000x1000 with 1 Axes>"
      ]
     },
     "metadata": {},
     "output_type": "display_data"
    }
   ],
   "source": [
    "plt.figure(figsize=(20,10))\n",
    "ax=y.value_counts(dropna=False).plot(kind='bar')\n",
    "for i in ax.containers:\n",
    "    ax.bar_label(i)"
   ]
  },
  {
   "cell_type": "code",
   "execution_count": 35,
   "id": "d3f5f14a",
   "metadata": {},
   "outputs": [
    {
     "data": {
      "text/plain": [
       "<Axes: xlabel='h1n1_vaccine'>"
      ]
     },
     "execution_count": 35,
     "metadata": {},
     "output_type": "execute_result"
    },
    {
     "data": {
      "image/png": "[encoded data removed]",
      "text/plain": [
       "<Figure size 640x480 with 1 Axes>"
      ]
     },
     "metadata": {},
     "output_type": "display_data"
    }
   ],
   "source": [
    "pd.DataFrame(y).value_counts().plot(kind='bar')# imbalance in classes or \n",
    "# levels-0- majority class(21033) & 1-minority classes(5674)"
   ]
  },
  {
   "cell_type": "code",
   "execution_count": 36,
   "id": "c83f3bde",
   "metadata": {},
   "outputs": [],
   "source": [
    "y=LabelEncoder().fit_transform(y)"
   ]
  },
  {
   "cell_type": "code",
   "execution_count": 37,
   "id": "a520759e",
   "metadata": {},
   "outputs": [],
   "source": [
    "from sklearn.linear_model import LogisticRegression\n",
    "from sklearn.metrics import classification_report"
   ]
  },
  {
   "cell_type": "code",
   "execution_count": 38,
   "id": "79dacb4b",
   "metadata": {},
   "outputs": [],
   "source": [
    "logit=LogisticRegression(max_iter=1000)"
   ]
  },
  {
   "cell_type": "code",
   "execution_count": 39,
   "id": "f2803e31",
   "metadata": {},
   "outputs": [],
   "source": [
    "logitmodel=logit.fit(X,y)"
   ]
  },
  {
   "cell_type": "code",
   "execution_count": 40,
   "id": "7e10dc68",
   "metadata": {},
   "outputs": [
    {
     "data": {
      "text/plain": [
       "0.8215823566855132"
      ]
     },
     "execution_count": 40,
     "metadata": {},
     "output_type": "execute_result"
    }
   ],
   "source": [
    "logitmodel.score(X,y) # Accuracy"
   ]
  },
  {
   "cell_type": "code",
   "execution_count": 41,
   "id": "90d9e360",
   "metadata": {},
   "outputs": [],
   "source": [
    "logitpredict=logitmodel.predict(X)"
   ]
  },
  {
   "cell_type": "code",
   "execution_count": 42,
   "id": "e21daf9d",
   "metadata": {},
   "outputs": [
    {
     "name": "stdout",
     "output_type": "stream",
     "text": [
      "              precision    recall  f1-score   support\n",
      "\n",
      "           0       0.85      0.94      0.89     21033\n",
      "           1       0.64      0.37      0.47      5674\n",
      "\n",
      "    accuracy                           0.82     26707\n",
      "   macro avg       0.74      0.66      0.68     26707\n",
      "weighted avg       0.80      0.82      0.80     26707\n",
      "\n"
     ]
    }
   ],
   "source": [
    "print(classification_report(y,logitpredict))\n",
    "# Minority class(1) predictions scores are worst."
   ]
  },
  {
   "cell_type": "code",
   "execution_count": 43,
   "id": "cbb5f5dd",
   "metadata": {},
   "outputs": [],
   "source": [
    "# imbalance data is a problem in classification both in binary and multinomial classification\n",
    "\n",
    "# In imbalance Data within dependent variable, majority class will be more than 70% and minority class will be less than 30%.\n",
    "\n",
    "#Model performance is several effected particularly in case of minority class\n",
    "\n",
    "# overall accuracy of the model and majority class prediction, recall and F1 score will good but minority class, \n",
    "#precision,recall and F1-score will be worst\n",
    "\n",
    "# Even AUC will be bad for Imbalanced Data.\n",
    "\n",
    "# classification report must be checked in case of Imbalance Data"
   ]
  },
  {
   "cell_type": "code",
   "execution_count": 44,
   "id": "82a9186b",
   "metadata": {},
   "outputs": [],
   "source": [
    "# dealing with imbalanced data sampling must be used . 2types of sampling\n",
    "# 1) Random oversampling- in this method observations from minority class are duplicated till it equals the majority class\n",
    "# 2) Random undersampling- I this method observations from majority class are deleted till it equals minority class\n",
    "\n",
    "# Oversampling technniques are used when data is smaller in size\n",
    "# undersampling technniques are used when data is larger in size\n",
    "\n",
    "# Popular over sampling technniques is SMOTE.(it is widely used in industry(synthatic,minority))\n",
    "# Popular under sampling technniques is Tomek Links."
   ]
  },
  {
   "cell_type": "code",
   "execution_count": 45,
   "id": "78782fe3",
   "metadata": {
    "scrolled": true
   },
   "outputs": [
    {
     "name": "stdout",
     "output_type": "stream",
     "text": [
      "Requirement already satisfied: imblearn in c:\\users\\eswar aditya\\anaconda3\\lib\\site-packages (0.0)\n",
      "Requirement already satisfied: imbalanced-learn in c:\\users\\eswar aditya\\anaconda3\\lib\\site-packages (from imblearn) (0.11.0)\n",
      "Requirement already satisfied: numpy>=1.17.3 in c:\\users\\eswar aditya\\anaconda3\\lib\\site-packages (from imbalanced-learn->imblearn) (1.24.3)\n",
      "Requirement already satisfied: scipy>=1.5.0 in c:\\users\\eswar aditya\\anaconda3\\lib\\site-packages (from imbalanced-learn->imblearn) (1.11.1)\n",
      "Requirement already satisfied: scikit-learn>=1.0.2 in c:\\users\\eswar aditya\\anaconda3\\lib\\site-packages (from imbalanced-learn->imblearn) (1.3.0)\n",
      "Requirement already satisfied: joblib>=1.1.1 in c:\\users\\eswar aditya\\anaconda3\\lib\\site-packages (from imbalanced-learn->imblearn) (1.2.0)\n",
      "Requirement already satisfied: threadpoolctl>=2.0.0 in c:\\users\\eswar aditya\\anaconda3\\lib\\site-packages (from imbalanced-learn->imblearn) (2.2.0)\n"
     ]
    }
   ],
   "source": [
    "!pip install imblearn"
   ]
  },
  {
   "cell_type": "code",
   "execution_count": 46,
   "id": "07461437",
   "metadata": {},
   "outputs": [],
   "source": [
    "from imblearn.under_sampling import RandomUnderSampler"
   ]
  },
  {
   "cell_type": "code",
   "execution_count": 47,
   "id": "ea51554a",
   "metadata": {},
   "outputs": [],
   "source": [
    "rus=RandomUnderSampler(random_state=42)"
   ]
  },
  {
   "cell_type": "code",
   "execution_count": 48,
   "id": "2df446fd",
   "metadata": {},
   "outputs": [],
   "source": [
    "X_rus,y_rus=rus.fit_resample(X,y)"
   ]
  },
  {
   "cell_type": "code",
   "execution_count": 49,
   "id": "a89599a0",
   "metadata": {},
   "outputs": [
    {
     "name": "stdout",
     "output_type": "stream",
     "text": [
      "0    21033\n",
      "1     5674\n",
      "Name: count, dtype: int64\n",
      "0    5674\n",
      "1    5674\n",
      "Name: count, dtype: int64\n"
     ]
    }
   ],
   "source": [
    "print(pd.DataFrame(y).value_counts())\n",
    "print(pd.DataFrame(y_rus).value_counts())"
   ]
  },
  {
   "cell_type": "code",
   "execution_count": 50,
   "id": "bb932108",
   "metadata": {},
   "outputs": [],
   "source": [
    "logit_rus_model=logit.fit(X_rus,y_rus)"
   ]
  },
  {
   "cell_type": "code",
   "execution_count": 51,
   "id": "beecadc6",
   "metadata": {},
   "outputs": [
    {
     "data": {
      "text/plain": [
       "0.7305252026788861"
      ]
     },
     "execution_count": 51,
     "metadata": {},
     "output_type": "execute_result"
    }
   ],
   "source": [
    "logit_rus_model.score(X_rus,y_rus)"
   ]
  },
  {
   "cell_type": "code",
   "execution_count": 52,
   "id": "46aefcff",
   "metadata": {},
   "outputs": [],
   "source": [
    "logit_rus_predict=logit_rus_model.predict(X_rus)"
   ]
  },
  {
   "cell_type": "code",
   "execution_count": 53,
   "id": "4c9c96d5",
   "metadata": {},
   "outputs": [
    {
     "name": "stdout",
     "output_type": "stream",
     "text": [
      "              precision    recall  f1-score   support\n",
      "\n",
      "           0       0.73      0.73      0.73      5674\n",
      "           1       0.73      0.73      0.73      5674\n",
      "\n",
      "    accuracy                           0.73     11348\n",
      "   macro avg       0.73      0.73      0.73     11348\n",
      "weighted avg       0.73      0.73      0.73     11348\n",
      "\n"
     ]
    }
   ],
   "source": [
    "print(classification_report(y_rus,logit_rus_predict))"
   ]
  },
  {
   "cell_type": "code",
   "execution_count": 54,
   "id": "9a5f31a0",
   "metadata": {},
   "outputs": [],
   "source": [
    "from sklearn.metrics import RocCurveDisplay"
   ]
  },
  {
   "cell_type": "code",
   "execution_count": 60,
   "id": "1165895e",
   "metadata": {},
   "outputs": [
    {
     "data": {
      "text/plain": [
       "<sklearn.metrics._plot.roc_curve.RocCurveDisplay at 0x2115c5cbed0>"
      ]
     },
     "execution_count": 60,
     "metadata": {},
     "output_type": "execute_result"
    },
    {
     "data": {
      "image/png": "[encoded data removed]",
      "text/plain": [
       "<Figure size 640x480 with 1 Axes>"
      ]
     },
     "metadata": {},
     "output_type": "display_data"
    }
   ],
   "source": [
    "RocCurveDisplay.from_predictions(y,logitpredict)"
   ]
  },
  {
   "cell_type": "code",
   "execution_count": 61,
   "id": "8e678ebd",
   "metadata": {},
   "outputs": [],
   "source": [
    "from imblearn.over_sampling import RandomOverSampler"
   ]
  },
  {
   "cell_type": "code",
   "execution_count": 62,
   "id": "11bfe4c7",
   "metadata": {},
   "outputs": [],
   "source": [
    "ros=RandomOverSampler(random_state=42)"
   ]
  },
  {
   "cell_type": "code",
   "execution_count": 63,
   "id": "18510df9",
   "metadata": {},
   "outputs": [],
   "source": [
    "X_ros,y_ros=ros.fit_resample(X,y)"
   ]
  },
  {
   "cell_type": "code",
   "execution_count": 64,
   "id": "e834168d",
   "metadata": {},
   "outputs": [
    {
     "name": "stdout",
     "output_type": "stream",
     "text": [
      "0    21033\n",
      "1     5674\n",
      "Name: count, dtype: int64\n",
      "0    21033\n",
      "1    21033\n",
      "Name: count, dtype: int64\n"
     ]
    }
   ],
   "source": [
    "print(pd.DataFrame(y).value_counts())\n",
    "print(pd.DataFrame(y_ros).value_counts())"
   ]
  },
  {
   "cell_type": "code",
   "execution_count": 65,
   "id": "1d1111f2",
   "metadata": {},
   "outputs": [],
   "source": [
    "logit_ros_model=logit.fit(X_ros,y_ros)"
   ]
  },
  {
   "cell_type": "code",
   "execution_count": 66,
   "id": "92f5b7e1",
   "metadata": {},
   "outputs": [
    {
     "data": {
      "text/plain": [
       "0.7210336138449104"
      ]
     },
     "execution_count": 66,
     "metadata": {},
     "output_type": "execute_result"
    }
   ],
   "source": [
    "logit_ros_model.score(X_ros,y_ros)"
   ]
  },
  {
   "cell_type": "code",
   "execution_count": 67,
   "id": "73e07cde",
   "metadata": {},
   "outputs": [],
   "source": [
    "logit_ros_predict=logit_ros_model.predict(X_ros)"
   ]
  },
  {
   "cell_type": "code",
   "execution_count": 68,
   "id": "89da593c",
   "metadata": {},
   "outputs": [
    {
     "name": "stdout",
     "output_type": "stream",
     "text": [
      "              precision    recall  f1-score   support\n",
      "\n",
      "           0       0.72      0.73      0.72     21033\n",
      "           1       0.73      0.71      0.72     21033\n",
      "\n",
      "    accuracy                           0.72     42066\n",
      "   macro avg       0.72      0.72      0.72     42066\n",
      "weighted avg       0.72      0.72      0.72     42066\n",
      "\n"
     ]
    }
   ],
   "source": [
    "print(classification_report(y_ros,logit_ros_predict))"
   ]
  },
  {
   "cell_type": "code",
   "execution_count": 71,
   "id": "9d1955b0",
   "metadata": {},
   "outputs": [
    {
     "data": {
      "text/plain": [
       "<sklearn.metrics._plot.roc_curve.RocCurveDisplay at 0x2116081ffd0>"
      ]
     },
     "execution_count": 71,
     "metadata": {},
     "output_type": "execute_result"
    },
    {
     "data": {
      "image/png": "[encoded data removed]",
      "text/plain": [
       "<Figure size 640x480 with 1 Axes>"
      ]
     },
     "metadata": {},
     "output_type": "display_data"
    }
   ],
   "source": [
    "RocCurveDisplay.from_predictions(y_ros,logit_ros_predict)"
   ]
  },
  {
   "cell_type": "code",
   "execution_count": null,
   "id": "838bc693",
   "metadata": {},
   "outputs": [],
   "source": [
    "# oversampling Techniques-SMOTE-synthetic minority oversampling technique\n",
    "# SMOTE uses KNN algorithm(Euclidean Distance) and creates artificial or synthetic data that lies within data range\n",
    "# No outliers created\n",
    "# SMOTE also uses Random number generator for generating random weights between 0 & 1\n",
    "\n",
    "# Two independent variables -x1- income and x2- age\\\n",
    "# x1-2400,2500,2700,2300,2100,2440\n",
    "# x2-46,34,45,28,25,41\n",
    "\n",
    "# choose a random weight between 0 & 1. Randomly selected 0.60\n",
    "# 2500+0.60*(2400-2500)=2440(synthetic data point)\n",
    "# 34+0.60*(46-34)=41 (synthetic data point)\n",
    "\n",
    "# different Types of SMOTE\n",
    "# SMOTE will only with Numeric data\n",
    "# SMOTENC will work for both numeric and nonnumeric categorical data\n",
    "# SMOTEN will work for only Nonnumeric Categrical Data"
   ]
  },
  {
   "cell_type": "code",
   "execution_count": 72,
   "id": "e178780c",
   "metadata": {},
   "outputs": [],
   "source": [
    "from imblearn.over_sampling import SMOTEN"
   ]
  },
  {
   "cell_type": "code",
   "execution_count": 73,
   "id": "b489980b",
   "metadata": {},
   "outputs": [],
   "source": [
    "smote=SMOTEN(random_state=42)"
   ]
  },
  {
   "cell_type": "code",
   "execution_count": 74,
   "id": "713ee6d3",
   "metadata": {},
   "outputs": [],
   "source": [
    "X_smote,y_smote=smote.fit_resample(X,y)"
   ]
  },
  {
   "cell_type": "code",
   "execution_count": 143,
   "id": "e9fe3a91",
   "metadata": {},
   "outputs": [
    {
     "name": "stdout",
     "output_type": "stream",
     "text": [
      "0    21033\n",
      "1     5674\n",
      "Name: count, dtype: int64\n",
      "0    21033\n",
      "1    21033\n",
      "Name: count, dtype: int64\n"
     ]
    }
   ],
   "source": [
    "print(pd.DataFrame(y).value_counts())\n",
    "print(pd.DataFrame(y_smote).value_counts())\n"
   ]
  },
  {
   "cell_type": "code",
   "execution_count": 144,
   "id": "7de51685",
   "metadata": {},
   "outputs": [],
   "source": [
    "\n",
    "logit_smote_model=logit.fit(x_smote,y_smote)\n"
   ]
  },
  {
   "cell_type": "code",
   "execution_count": 145,
   "id": "5225e7a2",
   "metadata": {},
   "outputs": [
    {
     "data": {
      "text/plain": [
       "0.8273427471116817"
      ]
     },
     "execution_count": 145,
     "metadata": {},
     "output_type": "execute_result"
    }
   ],
   "source": [
    "\n",
    "logit_smote_model.score(x_smote,y_smote)\n"
   ]
  },
  {
   "cell_type": "code",
   "execution_count": 146,
   "id": "e1464ee7",
   "metadata": {},
   "outputs": [],
   "source": [
    "\n",
    "logit_smote_predict=logit_smote_model.predict(x_smote)\n"
   ]
  },
  {
   "cell_type": "code",
   "execution_count": 147,
   "id": "031ef0d2",
   "metadata": {},
   "outputs": [
    {
     "name": "stdout",
     "output_type": "stream",
     "text": [
      "              precision    recall  f1-score   support\n",
      "\n",
      "           0       0.82      0.83      0.83     21033\n",
      "           1       0.83      0.82      0.83     21033\n",
      "\n",
      "    accuracy                           0.83     42066\n",
      "   macro avg       0.83      0.83      0.83     42066\n",
      "weighted avg       0.83      0.83      0.83     42066\n",
      "\n"
     ]
    }
   ],
   "source": [
    "\n",
    "print(classification_report(y_smote,logit_smote_predict))\n"
   ]
  },
  {
   "cell_type": "code",
   "execution_count": 148,
   "id": "18bd5bf9",
   "metadata": {},
   "outputs": [
    {
     "data": {
      "text/plain": [
       "<sklearn.metrics._plot.roc_curve.RocCurveDisplay at 0x211010da750>"
      ]
     },
     "execution_count": 148,
     "metadata": {},
     "output_type": "execute_result"
    },
    {
     "data": {
      "image/png": "[encoded data removed]",
      "text/plain": [
       "<Figure size 640x480 with 1 Axes>"
      ]
     },
     "metadata": {},
     "output_type": "display_data"
    }
   ],
   "source": [
    "\n",
    "RocCurveDisplay.from_predictions(y_smote,logit_smote_predict)"
   ]
  },
  {
   "cell_type": "code",
   "execution_count": null,
   "id": "e2120d3e",
   "metadata": {},
   "outputs": [],
   "source": []
  },
  {
   "cell_type": "markdown",
   "id": "49fd8b8e",
   "metadata": {},
   "source": [
    "# Decission Tree"
   ]
  },
  {
   "cell_type": "code",
   "execution_count": 86,
   "id": "3b52a974",
   "metadata": {},
   "outputs": [],
   "source": [
    "from sklearn.tree import DecisionTreeClassifier"
   ]
  },
  {
   "cell_type": "code",
   "execution_count": 87,
   "id": "efe57f94",
   "metadata": {},
   "outputs": [],
   "source": [
    "tree=DecisionTreeClassifier(max_depth=12)"
   ]
  },
  {
   "cell_type": "code",
   "execution_count": 88,
   "id": "377c39fb",
   "metadata": {},
   "outputs": [],
   "source": [
    "treemodel=tree.fit(X,y)"
   ]
  },
  {
   "cell_type": "code",
   "execution_count": 89,
   "id": "8b19b5fd",
   "metadata": {},
   "outputs": [
    {
     "data": {
      "text/plain": [
       "0.8996143333208522"
      ]
     },
     "execution_count": 89,
     "metadata": {},
     "output_type": "execute_result"
    }
   ],
   "source": [
    "treemodel.score(X,y)"
   ]
  },
  {
   "cell_type": "code",
   "execution_count": 90,
   "id": "1cd0ca25",
   "metadata": {},
   "outputs": [],
   "source": [
    "treepredict=treemodel.predict(X)"
   ]
  },
  {
   "cell_type": "code",
   "execution_count": 91,
   "id": "1c04c77d",
   "metadata": {},
   "outputs": [
    {
     "name": "stdout",
     "output_type": "stream",
     "text": [
      "              precision    recall  f1-score   support\n",
      "\n",
      "           0       0.91      0.97      0.94     21033\n",
      "           1       0.85      0.64      0.73      5674\n",
      "\n",
      "    accuracy                           0.90     26707\n",
      "   macro avg       0.88      0.80      0.83     26707\n",
      "weighted avg       0.90      0.90      0.89     26707\n",
      "\n"
     ]
    }
   ],
   "source": [
    "print(classification_report(y,treepredict))"
   ]
  },
  {
   "cell_type": "code",
   "execution_count": 92,
   "id": "38c1e184",
   "metadata": {},
   "outputs": [],
   "source": [
    "tree_smote_model=tree.fit(X_smote,y_smote)"
   ]
  },
  {
   "cell_type": "code",
   "execution_count": 93,
   "id": "dc317bf6",
   "metadata": {},
   "outputs": [
    {
     "data": {
      "text/plain": [
       "0.9041030761184805"
      ]
     },
     "execution_count": 93,
     "metadata": {},
     "output_type": "execute_result"
    }
   ],
   "source": [
    "tree_smote_model.score(X_smote,y_smote)"
   ]
  },
  {
   "cell_type": "code",
   "execution_count": 94,
   "id": "6a7ac580",
   "metadata": {},
   "outputs": [],
   "source": [
    "tree_smote_predict=tree_smote_model.predict(X_smote)"
   ]
  },
  {
   "cell_type": "code",
   "execution_count": 95,
   "id": "202ffc23",
   "metadata": {},
   "outputs": [
    {
     "name": "stdout",
     "output_type": "stream",
     "text": [
      "              precision    recall  f1-score   support\n",
      "\n",
      "           0       0.90      0.90      0.90     21033\n",
      "           1       0.90      0.90      0.90     21033\n",
      "\n",
      "    accuracy                           0.90     42066\n",
      "   macro avg       0.90      0.90      0.90     42066\n",
      "weighted avg       0.90      0.90      0.90     42066\n",
      "\n"
     ]
    }
   ],
   "source": [
    "print(classification_report(y_smote,tree_smote_predict))"
   ]
  },
  {
   "cell_type": "code",
   "execution_count": 96,
   "id": "51966388",
   "metadata": {},
   "outputs": [
    {
     "data": {
      "text/plain": [
       "<sklearn.metrics._plot.roc_curve.RocCurveDisplay at 0x211609655d0>"
      ]
     },
     "execution_count": 96,
     "metadata": {},
     "output_type": "execute_result"
    },
    {
     "data": {
      "image/png": "[encoded data removed]",
      "text/plain": [
       "<Figure size 640x480 with 1 Axes>"
      ]
     },
     "metadata": {},
     "output_type": "display_data"
    }
   ],
   "source": [
    "RocCurveDisplay.from_predictions(y_smote,tree_smote_predict)"
   ]
  },
  {
   "cell_type": "code",
   "execution_count": 97,
   "id": "bfbbf174",
   "metadata": {},
   "outputs": [],
   "source": [
    "from sklearn.ensemble import RandomForestClassifier"
   ]
  },
  {
   "cell_type": "code",
   "execution_count": 112,
   "id": "faf34658",
   "metadata": {},
   "outputs": [],
   "source": [
    "RF=RandomForestClassifier(n_estimators=3000,max_depth=12)"
   ]
  },
  {
   "cell_type": "code",
   "execution_count": 113,
   "id": "2984beae",
   "metadata": {},
   "outputs": [],
   "source": [
    "RFmodel=RF.fit(X,y)"
   ]
  },
  {
   "cell_type": "code",
   "execution_count": 114,
   "id": "8d20711d",
   "metadata": {},
   "outputs": [
    {
     "data": {
      "text/plain": [
       "0.9057550454936908"
      ]
     },
     "execution_count": 114,
     "metadata": {},
     "output_type": "execute_result"
    }
   ],
   "source": [
    "RFmodel.score(X,y)"
   ]
  },
  {
   "cell_type": "code",
   "execution_count": 115,
   "id": "b0f69c7e",
   "metadata": {},
   "outputs": [],
   "source": [
    "RFpredict=RFmodel.predict(X)"
   ]
  },
  {
   "cell_type": "code",
   "execution_count": 116,
   "id": "3dcc6aff",
   "metadata": {},
   "outputs": [
    {
     "name": "stdout",
     "output_type": "stream",
     "text": [
      "              precision    recall  f1-score   support\n",
      "\n",
      "           0       0.90      0.99      0.94     21033\n",
      "           1       0.92      0.61      0.73      5674\n",
      "\n",
      "    accuracy                           0.91     26707\n",
      "   macro avg       0.91      0.80      0.84     26707\n",
      "weighted avg       0.91      0.91      0.90     26707\n",
      "\n"
     ]
    }
   ],
   "source": [
    "print(classification_report(y,RFpredict))"
   ]
  },
  {
   "cell_type": "code",
   "execution_count": 117,
   "id": "5193dea2",
   "metadata": {},
   "outputs": [],
   "source": [
    "RF_smote_model=RF.fit(X_smote,y_smote)"
   ]
  },
  {
   "cell_type": "code",
   "execution_count": 118,
   "id": "ebda36a0",
   "metadata": {},
   "outputs": [
    {
     "data": {
      "text/plain": [
       "0.9230019493177388"
      ]
     },
     "execution_count": 118,
     "metadata": {},
     "output_type": "execute_result"
    }
   ],
   "source": [
    "RF_smote_model.score(X_smote,y_smote)"
   ]
  },
  {
   "cell_type": "code",
   "execution_count": 119,
   "id": "59fc9c84",
   "metadata": {},
   "outputs": [],
   "source": [
    "RF_smote_predict=RF_smote_model.predict(X_smote)"
   ]
  },
  {
   "cell_type": "code",
   "execution_count": 120,
   "id": "134579e4",
   "metadata": {},
   "outputs": [
    {
     "name": "stdout",
     "output_type": "stream",
     "text": [
      "              precision    recall  f1-score   support\n",
      "\n",
      "           0       0.91      0.93      0.92     21033\n",
      "           1       0.93      0.91      0.92     21033\n",
      "\n",
      "    accuracy                           0.92     42066\n",
      "   macro avg       0.92      0.92      0.92     42066\n",
      "weighted avg       0.92      0.92      0.92     42066\n",
      "\n"
     ]
    }
   ],
   "source": [
    "print(classification_report(y_smote,RF_smote_predict))"
   ]
  },
  {
   "cell_type": "code",
   "execution_count": null,
   "id": "3d2ebff2",
   "metadata": {},
   "outputs": [],
   "source": []
  },
  {
   "cell_type": "code",
   "execution_count": 121,
   "id": "f955364d",
   "metadata": {},
   "outputs": [],
   "source": [
    "from sklearn.ensemble import GradientBoostingClassifier"
   ]
  },
  {
   "cell_type": "code",
   "execution_count": 123,
   "id": "02687bd5",
   "metadata": {},
   "outputs": [],
   "source": [
    "gbm=GradientBoostingClassifier(n_estimators=1000)"
   ]
  },
  {
   "cell_type": "code",
   "execution_count": 124,
   "id": "602d1fa1",
   "metadata": {},
   "outputs": [],
   "source": [
    "gbmmodel=gbm.fit(X,y)"
   ]
  },
  {
   "cell_type": "code",
   "execution_count": 125,
   "id": "d2003794",
   "metadata": {},
   "outputs": [
    {
     "data": {
      "text/plain": [
       "0.8681619051185082"
      ]
     },
     "execution_count": 125,
     "metadata": {},
     "output_type": "execute_result"
    }
   ],
   "source": [
    "gbmmodel.score(X,y)"
   ]
  },
  {
   "cell_type": "code",
   "execution_count": 126,
   "id": "aebfaf14",
   "metadata": {},
   "outputs": [],
   "source": [
    "gbmpredict=gbmmodel.predict(X)"
   ]
  },
  {
   "cell_type": "code",
   "execution_count": 127,
   "id": "ea863fa8",
   "metadata": {},
   "outputs": [
    {
     "name": "stdout",
     "output_type": "stream",
     "text": [
      "              precision    recall  f1-score   support\n",
      "\n",
      "           0       0.88      0.96      0.92     21033\n",
      "           1       0.77      0.54      0.63      5674\n",
      "\n",
      "    accuracy                           0.87     26707\n",
      "   macro avg       0.83      0.75      0.78     26707\n",
      "weighted avg       0.86      0.87      0.86     26707\n",
      "\n"
     ]
    }
   ],
   "source": [
    "print(classification_report(y,gbmpredict))"
   ]
  },
  {
   "cell_type": "code",
   "execution_count": 128,
   "id": "a00b054b",
   "metadata": {},
   "outputs": [],
   "source": [
    "gbm_smote_model=gbm.fit(X_smote,y_smote)"
   ]
  },
  {
   "cell_type": "code",
   "execution_count": 129,
   "id": "c448728b",
   "metadata": {},
   "outputs": [
    {
     "data": {
      "text/plain": [
       "0.8893643322398136"
      ]
     },
     "execution_count": 129,
     "metadata": {},
     "output_type": "execute_result"
    }
   ],
   "source": [
    "gbm_smote_model.score(X_smote,y_smote)"
   ]
  },
  {
   "cell_type": "code",
   "execution_count": 130,
   "id": "9414900d",
   "metadata": {},
   "outputs": [],
   "source": [
    "gbm_smote_predict=gbm_smote_model.predict(X_smote)"
   ]
  },
  {
   "cell_type": "code",
   "execution_count": 131,
   "id": "2ff5c63e",
   "metadata": {},
   "outputs": [
    {
     "name": "stdout",
     "output_type": "stream",
     "text": [
      "              precision    recall  f1-score   support\n",
      "\n",
      "           0       0.88      0.90      0.89     21033\n",
      "           1       0.90      0.87      0.89     21033\n",
      "\n",
      "    accuracy                           0.89     42066\n",
      "   macro avg       0.89      0.89      0.89     42066\n",
      "weighted avg       0.89      0.89      0.89     42066\n",
      "\n"
     ]
    }
   ],
   "source": [
    "print(classification_report(y_smote,gbm_smote_predict))"
   ]
  },
  {
   "cell_type": "code",
   "execution_count": null,
   "id": "2ff9b50b",
   "metadata": {},
   "outputs": [],
   "source": []
  },
  {
   "cell_type": "code",
   "execution_count": 133,
   "id": "4bf5a2a8",
   "metadata": {},
   "outputs": [],
   "source": [
    "test_gbm=gbm_smote_model.predict_proba(vaccinetest_df)"
   ]
  },
  {
   "cell_type": "code",
   "execution_count": 134,
   "id": "4ebc5018",
   "metadata": {},
   "outputs": [],
   "source": [
    "pd.DataFrame(test_gbm).to_csv('gbm_h1n1.csv')"
   ]
  },
  {
   "cell_type": "code",
   "execution_count": null,
   "id": "d5e98f7f",
   "metadata": {},
   "outputs": [],
   "source": []
  },
  {
   "cell_type": "code",
   "execution_count": 138,
   "id": "6f3187a3",
   "metadata": {},
   "outputs": [],
   "source": [
    "test_RF=RF_smote_model.predict_proba(vaccinetest_df)"
   ]
  },
  {
   "cell_type": "code",
   "execution_count": 136,
   "id": "490a0559",
   "metadata": {},
   "outputs": [],
   "source": [
    "pd.DataFrame(test_RF).to_csv('RF_h1n1.csv')"
   ]
  },
  {
   "cell_type": "code",
   "execution_count": null,
   "id": "257254e7",
   "metadata": {},
   "outputs": [],
   "source": []
  },
  {
   "cell_type": "code",
   "execution_count": 149,
   "id": "afc6eb07",
   "metadata": {},
   "outputs": [],
   "source": [
    "test_logit=logit_smote_model.predict_proba(vaccinetest_df)"
   ]
  },
  {
   "cell_type": "code",
   "execution_count": 150,
   "id": "1da7d48d",
   "metadata": {},
   "outputs": [],
   "source": [
    "pd.DataFrame(test_logit).to_csv('log_h1n1.csv')"
   ]
  },
  {
   "cell_type": "markdown",
   "id": "f9ee8e2c",
   "metadata": {},
   "source": [
    "# Bias , variance and Tradeoff\n",
    "prediction error has 3 components- bias, variance, & Irreducible error.\n",
    "\n",
    "Irreducible error cannot be reduced by any algorithm. This error originates from wrong framing of business problem, faulty objective and unknown variables that may not exist at that point of time\n",
    "\n",
    "Bias are simplyfying assumptions made by an algorithm to predict and also make it eassier for the cost or loss function to learn effectively. <br>\n",
    "Parametric Algorithms like multiple linear regression, binary logistic regression have assumptions that must be checked before implementing algorithm. <br>\n",
    "Low predictive accuracy or high predictive error if assumptions are not met <br>\n",
    "Low Bias means few or no assumptions about variables <br>\n",
    "High bias means many assumptions about variables <br>\n",
    "\n",
    "High bias ML algorithms- Multiple Linear regression, Binary Logistic Regression\n",
    "Low bias  ML algorithms- Tree based algorithms like decision tree,Random Forest, Gradient Boosting,KNN.\n",
    "\n",
    "Variance is amount of deviance caused in dependent variable when there are minor to major changes in the input  variables or independent variables.\n",
    "\n",
    "Low variance- Small or marginal or large changes in input data lead to small or marginal changes in dependent variable\n",
    "HIgh variance- Small or marginal or large changes in input data lead to large or major changes in dependent variable\n",
    "\n",
    "Non linear and non parametric algoritms are highly senstive to variance in input data. Decision Tree and other Tree based models highly sensitive to medium or large changes in input variables\n",
    "\n",
    "Linear and parametric algoritms are deal with variance better and have good performance when there are medium to major changes in input variables\n",
    "\n",
    "machine learning algorithms try to achieve low bias and low variance.\n",
    "\n",
    "underfitting(high bias and low variance)\n",
    "overfittinng(low bias and high variance)"
   ]
  },
  {
   "cell_type": "markdown",
   "id": "5365a4cc",
   "metadata": {},
   "source": [
    "# 28/08/2023"
   ]
  },
  {
   "cell_type": "markdown",
   "id": "3ea88727",
   "metadata": {},
   "source": [
    "under fitting is where ML algorithm fails to capture underlying trend or pattern in data.\n",
    "ML algorith doesnot fot on data and generally happens when there is not enough data.\n",
    "Underfitting can be corrected by increasing both observations and decreasing variables.\n",
    "Underfitting cam also be corrected by removing noise in data like skewness,kurtosis, and outliers\n",
    "Underfitting can also be corrected by using variable selectoin methods like feature selection methods or reducing dimensionality using algorithm like principal component Analysis(PCA).\n",
    "\n",
    "Overfitting is where there is drastic difference between train model and tested or validated model performance.\n",
    "Large scale data has overfitting problem.\n",
    "Non parametric algorithms like decision tree has overfitting problem.\n",
    "Overfitting can be corrected by reducing data size using sampling methods.\n",
    "REgulRIZtion techniques like lasso, Rodge, ElasticNEt can be used.\n",
    "Reduce the model complexity by doing parameter or hyperparameter tuning"
   ]
  },
  {
   "cell_type": "markdown",
   "id": "7f652d7f",
   "metadata": {},
   "source": [
    "#Regularization techniques or penalized regression techniques are used to tackle overfitting problem.\n",
    "#Regularization techniques prevent overfitting by adding a penalty term (lambda or alpha) of the regression coefficients or the regression object.\n",
    "#Regularization using lambda or alpha tries to either shrink the number of variables (by making some coefficients zero) or by redeucing size of coefficients(making coefficient closer to zero)\n",
    "\n",
    "#1) LASSO- least absolute shrinkage and selection operator also called as L1 norm or L1 penalty.\n",
    "LASSO adds a penealty or lambda to absolute weights or coefficients of regressoin model.\n",
    "LASSO will definitely make some of the coefficients zero there by reducing number of variables and also works as a feature or variable selection method.\n",
    "LASSo doesnot work well with multicollinear data\n",
    "\n",
    "Obj- Regression sum square model + lambda*(Absolute value of coefficients)\n",
    "\n",
    "lambda or alpha value must be greater than 0 till infinity lambda or alpha value to zero- Multiple linear regression model will be built with no change in coefficients.\n",
    "lambda or alpha value equals to infinity- all coefficients will be equal to zero."
   ]
  },
  {
   "cell_type": "markdown",
   "id": "b92bca66",
   "metadata": {},
   "source": [
    "Ridge regression or L2 norm or l2 penalty add a penalty lambda or alpha to sum square weights or coefficients.\n",
    "Ridge regression shrinks the coefficiinets or weights closer to zero but not zero.\n",
    "It is not a feature or variable selection technique.\n",
    "Ridge regression is used when data is multicollinear"
   ]
  },
  {
   "cell_type": "markdown",
   "id": "7eb91052",
   "metadata": {},
   "source": [
    "Elastic net -l1+l2 norm or penalty / lasso+ ridge\n",
    "first lasso will be run and on lasso output ridge regression will be run.\n",
    "elastic net is a feature or variable selection technique."
   ]
  }
 ],
 "metadata": {
  "kernelspec": {
   "display_name": "Python 3 (ipykernel)",
   "language": "python",
   "name": "python3"
  },
  "language_info": {
   "codemirror_mode": {
    "name": "ipython",
    "version": 3
   },
   "file_extension": ".py",
   "mimetype": "text/x-python",
   "name": "python",
   "nbconvert_exporter": "python",
   "pygments_lexer": "ipython3",
   "version": "3.11.5"
  }
 },
 "nbformat": 4,
 "nbformat_minor": 5
}
